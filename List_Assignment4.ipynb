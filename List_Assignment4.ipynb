{
 "cells": [
  {
   "cell_type": "markdown",
   "id": "8eef45b1-0bb1-4b9f-af97-ab0d7e86abca",
   "metadata": {},
   "source": [
    "1. Write a program that accepts a list from user and print the alternate element of list."
   ]
  },
  {
   "cell_type": "code",
   "execution_count": 2,
   "id": "d0a9cc35-9e36-4a17-a4a0-c8401c45cbf8",
   "metadata": {},
   "outputs": [],
   "source": [
    "def alternate_elements():\n",
    "    user_list = input(\"Enter a list of elements separated by spaces: \").split()\n",
    "    print(\"Alternate elements of the list:\", user_list[::2])"
   ]
  },
  {
   "cell_type": "markdown",
   "id": "92c0fa46-d103-437c-a7d9-9dab04197c6a",
   "metadata": {},
   "source": [
    "2.\tWrite a program that accepts a list from user. Your program should reverse the content of list and display it. Do not use reverse() method."
   ]
  },
  {
   "cell_type": "code",
   "execution_count": 6,
   "id": "d6ac050d-031b-450b-884c-6aed234fd6c0",
   "metadata": {},
   "outputs": [],
   "source": [
    "def reverse_list():\n",
    "    user_list = input(\"Enter a list of elements separated by spaces: \").split()\n",
    "    reversed_list = user_list[::-1]\n",
    "    print(\"Reversed list:\", reversed_list)"
   ]
  },
  {
   "cell_type": "markdown",
   "id": "f75a84e6-cf74-41b1-9cb0-67f98ddec16e",
   "metadata": {},
   "source": [
    "3.\tFind and display the largest number of a list without using built-in function max(). Your program should ask the user to input values in list from keyboard."
   ]
  },
  {
   "cell_type": "code",
   "execution_count": 9,
   "id": "e0adfbce-3765-40b1-b42d-5684e2ba3729",
   "metadata": {},
   "outputs": [],
   "source": [
    "def find_largest():\n",
    "    user_list = list(map(int, input(\"Enter a list of numbers separated by spaces: \").split()))\n",
    "    largest = user_list[0]\n",
    "    for num in user_list[1:]:\n",
    "        if num > largest:\n",
    "            largest = num\n",
    "    print(\"Largest number in the list:\", largest)"
   ]
  },
  {
   "cell_type": "markdown",
   "id": "6e2e8071-bcac-4933-a22f-4f5aec27f167",
   "metadata": {},
   "source": [
    "4.\tWrite a program that rotates the element of a list so that the element at the first index moves to the second index, the element in the second index moves to the third index, etc., and the element in the last index moves to the first index."
   ]
  },
  {
   "cell_type": "code",
   "execution_count": 14,
   "id": "612eb1fc-6c67-445d-ad98-0deaefb716f3",
   "metadata": {},
   "outputs": [],
   "source": [
    "def rotate_list():\n",
    "    user_list = input(\"Enter a list of elements separated by spaces: \").split()\n",
    "    rotated_list = user_list[1:] + user_list[:1]\n",
    "    print(\"Rotated list:\", rotated_list)"
   ]
  },
  {
   "cell_type": "markdown",
   "id": "3f6fbaa5-d47b-45a9-9e8c-cad3ec61db71",
   "metadata": {},
   "source": [
    "5.\tWrite a program that input a string and ask user to delete a given word from a string."
   ]
  },
  {
   "cell_type": "code",
   "execution_count": 17,
   "id": "2ae15769-fe41-423a-b69c-38b3c94133de",
   "metadata": {},
   "outputs": [],
   "source": [
    "\n",
    "def delete_word():\n",
    "    user_string = input(\"Enter a string: \")\n",
    "    word_to_delete = input(\"Enter the word to delete: \")\n",
    "    modified_string = user_string.replace(word_to_delete, \"\")\n",
    "    print(\"Modified string:\", modified_string)"
   ]
  },
  {
   "cell_type": "markdown",
   "id": "5187ba01-269a-4301-bbf0-94aafea2fc1d",
   "metadata": {},
   "source": [
    "6.\tWrite a program that reads a string from the user containing a date in the form mm/dd/yyyy. It should print the date in the form March 12, 2021."
   ]
  },
  {
   "cell_type": "code",
   "execution_count": 20,
   "id": "590b16ee-639f-44a3-8e3b-c8e42f2d9098",
   "metadata": {},
   "outputs": [],
   "source": [
    "def format_date():\n",
    "    date_input = input(\"Enter a date (mm/dd/yyyy): \")\n",
    "    months = [\n",
    "        \"January\", \"February\", \"March\", \"April\", \"May\", \"June\",\n",
    "        \"July\", \"August\", \"September\", \"October\", \"November\", \"December\"\n",
    "    ]\n",
    "    month, day, year = map(int, date_input.split('/'))\n",
    "    print(f\"Formatted date: {months[month - 1]} {day}, {year}\")"
   ]
  },
  {
   "cell_type": "markdown",
   "id": "c72c5253-4e1d-4de6-9888-95c518ce8a82",
   "metadata": {},
   "source": [
    "7.\tWrite a program with a function that accepts a string from keyboard and create a new string after converting character of each word capitalized. For instance, if the sentence is \"stop and smell the roses.\" the output should be \"Stop And Smell The Roses\""
   ]
  },
  {
   "cell_type": "code",
   "execution_count": 26,
   "id": "a7b7e9df-ca47-4884-a5c6-c29501ea6007",
   "metadata": {},
   "outputs": [
    {
     "name": "stdout",
     "output_type": "stream",
     "text": [
      "1. Alternate elements\n"
     ]
    },
    {
     "name": "stdin",
     "output_type": "stream",
     "text": [
      "Enter a list of elements separated by spaces:  2\n"
     ]
    },
    {
     "name": "stdout",
     "output_type": "stream",
     "text": [
      "Alternate elements of the list: ['2']\n",
      "\n",
      "2. Reverse list\n"
     ]
    },
    {
     "name": "stdin",
     "output_type": "stream",
     "text": [
      "Enter a list of elements separated by spaces:  3\n"
     ]
    },
    {
     "name": "stdout",
     "output_type": "stream",
     "text": [
      "Reversed list: ['3']\n",
      "\n",
      "3. Find largest number\n"
     ]
    },
    {
     "name": "stdin",
     "output_type": "stream",
     "text": [
      "Enter a list of numbers separated by spaces:  5\n"
     ]
    },
    {
     "name": "stdout",
     "output_type": "stream",
     "text": [
      "Largest number in the list: 5\n",
      "\n",
      "4. Rotate list\n"
     ]
    },
    {
     "name": "stdin",
     "output_type": "stream",
     "text": [
      "Enter a list of elements separated by spaces:  8\n"
     ]
    },
    {
     "name": "stdout",
     "output_type": "stream",
     "text": [
      "Rotated list: ['8']\n",
      "\n",
      "5. Delete word from string\n"
     ]
    },
    {
     "name": "stdin",
     "output_type": "stream",
     "text": [
      "Enter a string:  9\n",
      "Enter the word to delete:  7\n"
     ]
    },
    {
     "name": "stdout",
     "output_type": "stream",
     "text": [
      "Modified string: 9\n",
      "\n",
      "6. Format date\n"
     ]
    },
    {
     "name": "stdin",
     "output_type": "stream",
     "text": [
      "Enter a date (mm/dd/yyyy):  5\n"
     ]
    },
    {
     "ename": "ValueError",
     "evalue": "not enough values to unpack (expected 3, got 1)",
     "output_type": "error",
     "traceback": [
      "\u001b[1;31m---------------------------------------------------------------------------\u001b[0m",
      "\u001b[1;31mValueError\u001b[0m                                Traceback (most recent call last)",
      "Cell \u001b[1;32mIn[26], line 24\u001b[0m\n\u001b[0;32m     21\u001b[0m delete_word()\n\u001b[0;32m     23\u001b[0m \u001b[38;5;28mprint\u001b[39m(\u001b[38;5;124m\"\u001b[39m\u001b[38;5;130;01m\\n\u001b[39;00m\u001b[38;5;124m6. Format date\u001b[39m\u001b[38;5;124m\"\u001b[39m)\n\u001b[1;32m---> 24\u001b[0m format_date()\n\u001b[0;32m     26\u001b[0m \u001b[38;5;28mprint\u001b[39m(\u001b[38;5;124m\"\u001b[39m\u001b[38;5;130;01m\\n\u001b[39;00m\u001b[38;5;124m7. Capitalize words\u001b[39m\u001b[38;5;124m\"\u001b[39m)\n\u001b[0;32m     27\u001b[0m capitalize_words()\n",
      "Cell \u001b[1;32mIn[20], line 7\u001b[0m, in \u001b[0;36mformat_date\u001b[1;34m()\u001b[0m\n\u001b[0;32m      2\u001b[0m date_input \u001b[38;5;241m=\u001b[39m \u001b[38;5;28minput\u001b[39m(\u001b[38;5;124m\"\u001b[39m\u001b[38;5;124mEnter a date (mm/dd/yyyy): \u001b[39m\u001b[38;5;124m\"\u001b[39m)\n\u001b[0;32m      3\u001b[0m months \u001b[38;5;241m=\u001b[39m [\n\u001b[0;32m      4\u001b[0m     \u001b[38;5;124m\"\u001b[39m\u001b[38;5;124mJanuary\u001b[39m\u001b[38;5;124m\"\u001b[39m, \u001b[38;5;124m\"\u001b[39m\u001b[38;5;124mFebruary\u001b[39m\u001b[38;5;124m\"\u001b[39m, \u001b[38;5;124m\"\u001b[39m\u001b[38;5;124mMarch\u001b[39m\u001b[38;5;124m\"\u001b[39m, \u001b[38;5;124m\"\u001b[39m\u001b[38;5;124mApril\u001b[39m\u001b[38;5;124m\"\u001b[39m, \u001b[38;5;124m\"\u001b[39m\u001b[38;5;124mMay\u001b[39m\u001b[38;5;124m\"\u001b[39m, \u001b[38;5;124m\"\u001b[39m\u001b[38;5;124mJune\u001b[39m\u001b[38;5;124m\"\u001b[39m,\n\u001b[0;32m      5\u001b[0m     \u001b[38;5;124m\"\u001b[39m\u001b[38;5;124mJuly\u001b[39m\u001b[38;5;124m\"\u001b[39m, \u001b[38;5;124m\"\u001b[39m\u001b[38;5;124mAugust\u001b[39m\u001b[38;5;124m\"\u001b[39m, \u001b[38;5;124m\"\u001b[39m\u001b[38;5;124mSeptember\u001b[39m\u001b[38;5;124m\"\u001b[39m, \u001b[38;5;124m\"\u001b[39m\u001b[38;5;124mOctober\u001b[39m\u001b[38;5;124m\"\u001b[39m, \u001b[38;5;124m\"\u001b[39m\u001b[38;5;124mNovember\u001b[39m\u001b[38;5;124m\"\u001b[39m, \u001b[38;5;124m\"\u001b[39m\u001b[38;5;124mDecember\u001b[39m\u001b[38;5;124m\"\u001b[39m\n\u001b[0;32m      6\u001b[0m ]\n\u001b[1;32m----> 7\u001b[0m month, day, year \u001b[38;5;241m=\u001b[39m \u001b[38;5;28mmap\u001b[39m(\u001b[38;5;28mint\u001b[39m, date_input\u001b[38;5;241m.\u001b[39msplit(\u001b[38;5;124m'\u001b[39m\u001b[38;5;124m/\u001b[39m\u001b[38;5;124m'\u001b[39m))\n\u001b[0;32m      8\u001b[0m \u001b[38;5;28mprint\u001b[39m(\u001b[38;5;124mf\u001b[39m\u001b[38;5;124m\"\u001b[39m\u001b[38;5;124mFormatted date: \u001b[39m\u001b[38;5;132;01m{\u001b[39;00mmonths[month\u001b[38;5;250m \u001b[39m\u001b[38;5;241m-\u001b[39m\u001b[38;5;250m \u001b[39m\u001b[38;5;241m1\u001b[39m]\u001b[38;5;132;01m}\u001b[39;00m\u001b[38;5;124m \u001b[39m\u001b[38;5;132;01m{\u001b[39;00mday\u001b[38;5;132;01m}\u001b[39;00m\u001b[38;5;124m, \u001b[39m\u001b[38;5;132;01m{\u001b[39;00myear\u001b[38;5;132;01m}\u001b[39;00m\u001b[38;5;124m\"\u001b[39m)\n",
      "\u001b[1;31mValueError\u001b[0m: not enough values to unpack (expected 3, got 1)"
     ]
    }
   ],
   "source": [
    "def capitalize_words():\n",
    "    user_string = input(\"Enter a sentence: \")\n",
    "    capitalized_string = ' '.join(word.capitalize() for word in user_string.split())\n",
    "    print(\"Capitalized sentence:\", capitalized_string)\n",
    "\n",
    "# Function calls for testing\n",
    "if __name__ == \"__main__\":\n",
    "    print(\"1. Alternate elements\")\n",
    "    alternate_elements()\n",
    "    \n",
    "    print(\"\\n2. Reverse list\")\n",
    "    reverse_list()\n",
    "    \n",
    "    print(\"\\n3. Find largest number\")\n",
    "    find_largest()\n",
    "    \n",
    "    print(\"\\n4. Rotate list\")\n",
    "    rotate_list()\n",
    "    \n",
    "    print(\"\\n5. Delete word from string\")\n",
    "    delete_word()\n",
    "    \n",
    "    print(\"\\n6. Format date\")\n",
    "    format_date()\n",
    "    \n",
    "    print(\"\\n7. Capitalize words\")\n",
    "    capitalize_words()"
   ]
  },
  {
   "cell_type": "markdown",
   "id": "d2e38fbe-8ab1-42c4-ba2f-b0205adc1ba5",
   "metadata": {},
   "source": [
    "8.\tFind the sum of each row of matrix of size m x n. For example for the following matrix output will be like this :\n",
    "\n",
    "\n",
    "Sum of row 1 = 32\n",
    "Sum of row 2 = 31\n",
    "Sum of row 3 = 63\n"
   ]
  },
  {
   "cell_type": "code",
   "execution_count": 28,
   "id": "5190c379-aa51-429b-b795-bc97c23d1b18",
   "metadata": {},
   "outputs": [
    {
     "name": "stdin",
     "output_type": "stream",
     "text": [
      "Enter the number of rows (m):  2\n",
      "Enter the number of columns (n):  2\n",
      "Enter row 1 (space-separated):  1\n"
     ]
    },
    {
     "name": "stdout",
     "output_type": "stream",
     "text": [
      "Invalid number of columns. Try again.\n"
     ]
    }
   ],
   "source": [
    "def sum_of_rows():\n",
    "    m = int(input(\"Enter the number of rows (m): \"))\n",
    "    n = int(input(\"Enter the number of columns (n): \"))\n",
    "    matrix = []\n",
    "\n",
    "    for i in range(m):\n",
    "        row = list(map(int, input(f\"Enter row {i + 1} (space-separated): \").split()))\n",
    "        if len(row) != n:\n",
    "            print(\"Invalid number of columns. Try again.\")\n",
    "            return\n",
    "        matrix.append(row)\n",
    "\n",
    "    for i, row in enumerate(matrix):\n",
    "        print(f\"Sum of row {i + 1} = {sum(row)}\")\n",
    "\n",
    "sum_of_rows()\n"
   ]
  },
  {
   "cell_type": "markdown",
   "id": "7421cbe5-88d1-4cb5-b1d2-dd5e0f717c15",
   "metadata": {},
   "source": [
    "9.\tWrite a program to add two matrices of size n x m."
   ]
  },
  {
   "cell_type": "code",
   "execution_count": 31,
   "id": "f9515fd1-6c27-4e10-ac72-227427360271",
   "metadata": {},
   "outputs": [
    {
     "name": "stdin",
     "output_type": "stream",
     "text": [
      "Enter the number of rows (m):  4\n",
      "Enter the number of columns (n):  4\n"
     ]
    },
    {
     "name": "stdout",
     "output_type": "stream",
     "text": [
      "Enter elements for the first matrix:\n"
     ]
    },
    {
     "name": "stdin",
     "output_type": "stream",
     "text": [
      " 4\n",
      " 4\n",
      " 7\n",
      " 8\n"
     ]
    },
    {
     "name": "stdout",
     "output_type": "stream",
     "text": [
      "Enter elements for the second matrix:\n"
     ]
    },
    {
     "name": "stdin",
     "output_type": "stream",
     "text": [
      " 8\n",
      " 8\n",
      " 8\n",
      " 88\n"
     ]
    },
    {
     "ename": "IndexError",
     "evalue": "list index out of range",
     "output_type": "error",
     "traceback": [
      "\u001b[1;31m---------------------------------------------------------------------------\u001b[0m",
      "\u001b[1;31mIndexError\u001b[0m                                Traceback (most recent call last)",
      "Cell \u001b[1;32mIn[31], line 17\u001b[0m\n\u001b[0;32m     14\u001b[0m     \u001b[38;5;28;01mfor\u001b[39;00m row \u001b[38;5;129;01min\u001b[39;00m result:\n\u001b[0;32m     15\u001b[0m         \u001b[38;5;28mprint\u001b[39m(\u001b[38;5;124m\"\u001b[39m\u001b[38;5;124m \u001b[39m\u001b[38;5;124m\"\u001b[39m\u001b[38;5;241m.\u001b[39mjoin(\u001b[38;5;28mmap\u001b[39m(\u001b[38;5;28mstr\u001b[39m, row)))\n\u001b[1;32m---> 17\u001b[0m add_matrices()\n",
      "Cell \u001b[1;32mIn[31], line 11\u001b[0m, in \u001b[0;36madd_matrices\u001b[1;34m()\u001b[0m\n\u001b[0;32m      8\u001b[0m \u001b[38;5;28mprint\u001b[39m(\u001b[38;5;124m\"\u001b[39m\u001b[38;5;124mEnter elements for the second matrix:\u001b[39m\u001b[38;5;124m\"\u001b[39m)\n\u001b[0;32m      9\u001b[0m matrix2 \u001b[38;5;241m=\u001b[39m [\u001b[38;5;28mlist\u001b[39m(\u001b[38;5;28mmap\u001b[39m(\u001b[38;5;28mint\u001b[39m, \u001b[38;5;28minput\u001b[39m()\u001b[38;5;241m.\u001b[39msplit())) \u001b[38;5;28;01mfor\u001b[39;00m _ \u001b[38;5;129;01min\u001b[39;00m \u001b[38;5;28mrange\u001b[39m(m)]\n\u001b[1;32m---> 11\u001b[0m result \u001b[38;5;241m=\u001b[39m [[matrix1[i][j] \u001b[38;5;241m+\u001b[39m matrix2[i][j] \u001b[38;5;28;01mfor\u001b[39;00m j \u001b[38;5;129;01min\u001b[39;00m \u001b[38;5;28mrange\u001b[39m(n)] \u001b[38;5;28;01mfor\u001b[39;00m i \u001b[38;5;129;01min\u001b[39;00m \u001b[38;5;28mrange\u001b[39m(m)]\n\u001b[0;32m     13\u001b[0m \u001b[38;5;28mprint\u001b[39m(\u001b[38;5;124m\"\u001b[39m\u001b[38;5;124mResultant matrix after addition:\u001b[39m\u001b[38;5;124m\"\u001b[39m)\n\u001b[0;32m     14\u001b[0m \u001b[38;5;28;01mfor\u001b[39;00m row \u001b[38;5;129;01min\u001b[39;00m result:\n",
      "\u001b[1;31mIndexError\u001b[0m: list index out of range"
     ]
    }
   ],
   "source": [
    "def add_matrices():\n",
    "    m = int(input(\"Enter the number of rows (m): \"))\n",
    "    n = int(input(\"Enter the number of columns (n): \"))\n",
    "    \n",
    "    print(\"Enter elements for the first matrix:\")\n",
    "    matrix1 = [list(map(int, input().split())) for _ in range(m)]\n",
    "    \n",
    "    print(\"Enter elements for the second matrix:\")\n",
    "    matrix2 = [list(map(int, input().split())) for _ in range(m)]\n",
    "\n",
    "    result = [[matrix1[i][j] + matrix2[i][j] for j in range(n)] for i in range(m)]\n",
    "    \n",
    "    print(\"Resultant matrix after addition:\")\n",
    "    for row in result:\n",
    "        print(\" \".join(map(str, row)))\n",
    "\n",
    "add_matrices()\n"
   ]
  },
  {
   "cell_type": "markdown",
   "id": "dc66d309-a903-4bb9-9ac6-7addf7291e54",
   "metadata": {},
   "source": [
    "10.\tWrite a program to multiply two matrices"
   ]
  },
  {
   "cell_type": "code",
   "execution_count": 34,
   "id": "8ccc8473-0331-488c-aedf-a1ab425dc0ac",
   "metadata": {},
   "outputs": [
    {
     "name": "stdin",
     "output_type": "stream",
     "text": [
      "Enter the number of rows for the first matrix:  7\n",
      "Enter the number of columns for the first matrix (and rows for the second):  8\n",
      "Enter the number of columns for the second matrix:  7\n"
     ]
    },
    {
     "name": "stdout",
     "output_type": "stream",
     "text": [
      "Enter elements for the first matrix:\n"
     ]
    },
    {
     "name": "stdin",
     "output_type": "stream",
     "text": [
      " 6\n",
      " 7\n",
      " 7\n",
      " 7\n",
      " 5\n",
      " 3\n",
      " 2\n"
     ]
    },
    {
     "name": "stdout",
     "output_type": "stream",
     "text": [
      "Enter elements for the second matrix:\n"
     ]
    },
    {
     "name": "stdin",
     "output_type": "stream",
     "text": [
      " 1\n",
      " 2\n",
      " 1\n",
      " 2\n",
      " 3\n",
      " 4\n",
      " 5\n",
      " 56\n"
     ]
    },
    {
     "ename": "IndexError",
     "evalue": "list index out of range",
     "output_type": "error",
     "traceback": [
      "\u001b[1;31m---------------------------------------------------------------------------\u001b[0m",
      "\u001b[1;31mIndexError\u001b[0m                                Traceback (most recent call last)",
      "Cell \u001b[1;32mIn[34], line 25\u001b[0m\n\u001b[0;32m     22\u001b[0m     \u001b[38;5;28;01mfor\u001b[39;00m row \u001b[38;5;129;01min\u001b[39;00m result:\n\u001b[0;32m     23\u001b[0m         \u001b[38;5;28mprint\u001b[39m(\u001b[38;5;124m\"\u001b[39m\u001b[38;5;124m \u001b[39m\u001b[38;5;124m\"\u001b[39m\u001b[38;5;241m.\u001b[39mjoin(\u001b[38;5;28mmap\u001b[39m(\u001b[38;5;28mstr\u001b[39m, row)))\n\u001b[1;32m---> 25\u001b[0m multiply_matrices()\n",
      "Cell \u001b[1;32mIn[34], line 19\u001b[0m, in \u001b[0;36mmultiply_matrices\u001b[1;34m()\u001b[0m\n\u001b[0;32m     17\u001b[0m     \u001b[38;5;28;01mfor\u001b[39;00m j \u001b[38;5;129;01min\u001b[39;00m \u001b[38;5;28mrange\u001b[39m(p):\n\u001b[0;32m     18\u001b[0m         \u001b[38;5;28;01mfor\u001b[39;00m k \u001b[38;5;129;01min\u001b[39;00m \u001b[38;5;28mrange\u001b[39m(n):\n\u001b[1;32m---> 19\u001b[0m             result[i][j] \u001b[38;5;241m+\u001b[39m\u001b[38;5;241m=\u001b[39m matrix1[i][k] \u001b[38;5;241m*\u001b[39m matrix2[k][j]\n\u001b[0;32m     21\u001b[0m \u001b[38;5;28mprint\u001b[39m(\u001b[38;5;124m\"\u001b[39m\u001b[38;5;124mResultant matrix after multiplication:\u001b[39m\u001b[38;5;124m\"\u001b[39m)\n\u001b[0;32m     22\u001b[0m \u001b[38;5;28;01mfor\u001b[39;00m row \u001b[38;5;129;01min\u001b[39;00m result:\n",
      "\u001b[1;31mIndexError\u001b[0m: list index out of range"
     ]
    }
   ],
   "source": [
    "def multiply_matrices():\n",
    "    m = int(input(\"Enter the number of rows for the first matrix: \"))\n",
    "    n = int(input(\"Enter the number of columns for the first matrix (and rows for the second): \"))\n",
    "    p = int(input(\"Enter the number of columns for the second matrix: \"))\n",
    "\n",
    "    print(\"Enter elements for the first matrix:\")\n",
    "    matrix1 = [list(map(int, input().split())) for _ in range(m)]\n",
    "    \n",
    "    print(\"Enter elements for the second matrix:\")\n",
    "    matrix2 = [list(map(int, input().split())) for _ in range(n)]\n",
    "\n",
    "    # Initialize the resultant matrix with zeros\n",
    "    result = [[0] * p for _ in range(m)]\n",
    "    \n",
    "    # Perform matrix multiplication\n",
    "    for i in range(m):\n",
    "        for j in range(p):\n",
    "            for k in range(n):\n",
    "                result[i][j] += matrix1[i][k] * matrix2[k][j]\n",
    "\n",
    "    print(\"Resultant matrix after multiplication:\")\n",
    "    for row in result:\n",
    "        print(\" \".join(map(str, row)))\n",
    "\n",
    "multiply_matrices()\n"
   ]
  },
  {
   "cell_type": "code",
   "execution_count": null,
   "id": "d6f66108-172f-4cf1-9008-a5f1351f5a7e",
   "metadata": {},
   "outputs": [],
   "source": []
  }
 ],
 "metadata": {
  "kernelspec": {
   "display_name": "Python 3 (ipykernel)",
   "language": "python",
   "name": "python3"
  },
  "language_info": {
   "codemirror_mode": {
    "name": "ipython",
    "version": 3
   },
   "file_extension": ".py",
   "mimetype": "text/x-python",
   "name": "python",
   "nbconvert_exporter": "python",
   "pygments_lexer": "ipython3",
   "version": "3.12.7"
  }
 },
 "nbformat": 4,
 "nbformat_minor": 5
}
