{
 "cells": [
  {
   "cell_type": "markdown",
   "id": "adc7ee61-0fae-4dea-b079-f46a69cfa51f",
   "metadata": {},
   "source": [
    "Task1:\n",
    "You need to write a function in python that return all such numbers which are divisible by 7 but are not a multiple of 5, between 2000 and 3200 (both included). Return the obtained numbers in a comma-separated sequence on a single line.\n"
   ]
  },
  {
   "cell_type": "code",
   "execution_count": 2,
   "id": "ed222732-5a17-4d4f-bc33-eefca47cc5b6",
   "metadata": {},
   "outputs": [
    {
     "name": "stdout",
     "output_type": "stream",
     "text": [
      "2002,2009,2016,2023,2037,2044,2051,2058,2072,2079,2086,2093,2107,2114,2121,2128,2142,2149,2156,2163,2177,2184,2191,2198,2212,2219,2226,2233,2247,2254,2261,2268,2282,2289,2296,2303,2317,2324,2331,2338,2352,2359,2366,2373,2387,2394,2401,2408,2422,2429,2436,2443,2457,2464,2471,2478,2492,2499,2506,2513,2527,2534,2541,2548,2562,2569,2576,2583,2597,2604,2611,2618,2632,2639,2646,2653,2667,2674,2681,2688,2702,2709,2716,2723,2737,2744,2751,2758,2772,2779,2786,2793,2807,2814,2821,2828,2842,2849,2856,2863,2877,2884,2891,2898,2912,2919,2926,2933,2947,2954,2961,2968,2982,2989,2996,3003,3017,3024,3031,3038,3052,3059,3066,3073,3087,3094,3101,3108,3122,3129,3136,3143,3157,3164,3171,3178,3192,3199\n"
     ]
    }
   ],
   "source": [
    "def divisible_by_7_not_5():\n",
    "    result = []\n",
    "    for num in range(2000, 3201):\n",
    "        if num % 7 == 0 and num % 5 != 0:\n",
    "            result.append(str(num))\n",
    "    return ','.join(result)\n",
    "\n",
    "print(divisible_by_7_not_5())\n"
   ]
  },
  {
   "cell_type": "markdown",
   "id": "ef1fe740-0d41-4989-a154-b774dff98b51",
   "metadata": {},
   "source": [
    "Task2:\n",
    "You need code a function that calculates and returns the value according to the given formula:\n",
    "P = Square root of [(2 * A * B)/C] Following are the fixed values of A and B:\n",
    "A is 50. B is 30.\n",
    "The values of the literal C should be taken as console input to your program in a comma-separated sequence.\n",
    "Example\n",
    "Let us assume the following comma separated input sequence is given to the program:\n",
    "100,150,180\n",
    "The output of the program should be:\n",
    "18,22,24\n"
   ]
  },
  {
   "cell_type": "code",
   "execution_count": 5,
   "id": "7b7b71f0-aad8-4780-a5fc-01307688029d",
   "metadata": {},
   "outputs": [
    {
     "name": "stdin",
     "output_type": "stream",
     "text": [
      "Enter the values for C (comma-separated):  8\n"
     ]
    },
    {
     "name": "stdout",
     "output_type": "stream",
     "text": [
      "19\n"
     ]
    }
   ],
   "source": [
    "import math\n",
    "\n",
    "def calculate_P():\n",
    "    A = 50\n",
    "    B = 30\n",
    "    C_values = input(\"Enter the values for C (comma-separated): \").split(',')\n",
    "    result = []\n",
    "    \n",
    "    for C in C_values:\n",
    "        C = int(C)\n",
    "        P = int(math.sqrt((2 * A * B) / C))\n",
    "        result.append(str(P))\n",
    "    \n",
    "    return ','.join(result)\n",
    "\n",
    "print(calculate_P())\n"
   ]
  },
  {
   "cell_type": "markdown",
   "id": "80613d1c-8900-44f7-bb00-d09935bc5561",
   "metadata": {},
   "source": [
    "Task3:\n",
    "You need to write a function that takes a comma separated sequence of words as input and prints the words in a comma-separated sequence after sorting them alphabetically.\n",
    "Suppose the following input is supplied to the program: without,hello,bag,world\n",
    "Then, the output should be:\n",
    "bag,hello,without,world"
   ]
  },
  {
   "cell_type": "code",
   "execution_count": 8,
   "id": "80a91aea-95e7-4b18-981b-e0509bd47f51",
   "metadata": {},
   "outputs": [
    {
     "name": "stdin",
     "output_type": "stream",
     "text": [
      "Enter a comma-separated sequence of words:  9\n"
     ]
    },
    {
     "name": "stdout",
     "output_type": "stream",
     "text": [
      "9\n"
     ]
    }
   ],
   "source": [
    "def sort_words():\n",
    "    words = input(\"Enter a comma-separated sequence of words: \").split(',')\n",
    "    words.sort()\n",
    "    return ','.join(words)\n",
    "\n",
    "print(sort_words())\n"
   ]
  },
  {
   "cell_type": "markdown",
   "id": "e42ddbe6-2cfb-420a-93ae-353ae563970a",
   "metadata": {},
   "source": [
    "Task4:\n",
    "You need to write a program that takes sequence of lines as input and prints the lines after making all characters in the sentence capitalized.\n",
    "Suppose the following input is supplied to the program: Hello world\n",
    "Practice makes perfect Then, the output should be:\n",
    " \n",
    "HELLO WORLD\n",
    "PRACTICE MAKES PERFECT\n"
   ]
  },
  {
   "cell_type": "code",
   "execution_count": 11,
   "id": "fd5169bf-0cf7-4a4f-b7e7-1f619175d915",
   "metadata": {},
   "outputs": [
    {
     "name": "stdin",
     "output_type": "stream",
     "text": [
      "Enter a line (or press Enter to stop):  6\n",
      "Enter a line (or press Enter to stop):  5\n",
      "Enter a line (or press Enter to stop):  4\n",
      "Enter a line (or press Enter to stop):  3\n",
      "Enter a line (or press Enter to stop):  2\n",
      "Enter a line (or press Enter to stop):  1\n",
      "Enter a line (or press Enter to stop):  8\n",
      "Enter a line (or press Enter to stop):  6\n",
      "Enter a line (or press Enter to stop):  5\n",
      "Enter a line (or press Enter to stop):  3\n",
      "Enter a line (or press Enter to stop):  3\n",
      "Enter a line (or press Enter to stop):  3\n",
      "Enter a line (or press Enter to stop):  33\n",
      "Enter a line (or press Enter to stop):  3\n",
      "Enter a line (or press Enter to stop):  3\n",
      "Enter a line (or press Enter to stop):  3\n",
      "Enter a line (or press Enter to stop):  3\n",
      "Enter a line (or press Enter to stop):  3\n",
      "Enter a line (or press Enter to stop):  3\n",
      "Enter a line (or press Enter to stop):  3\n",
      "Enter a line (or press Enter to stop):  3\n",
      "Enter a line (or press Enter to stop):  3\n",
      "Enter a line (or press Enter to stop):  3\n",
      "Enter a line (or press Enter to stop):  3\n",
      "Enter a line (or press Enter to stop):  3\n",
      "Enter a line (or press Enter to stop):  3\n",
      "Enter a line (or press Enter to stop):  3\n",
      "Enter a line (or press Enter to stop):  3\n",
      "Enter a line (or press Enter to stop):  3\n",
      "Enter a line (or press Enter to stop):  3\n",
      "Enter a line (or press Enter to stop):  3\n",
      "Enter a line (or press Enter to stop):  3\n",
      "Enter a line (or press Enter to stop):  d\n",
      "Enter a line (or press Enter to stop):  df\n",
      "Enter a line (or press Enter to stop):  WEW\n",
      "Enter a line (or press Enter to stop):  E-\n",
      "Enter a line (or press Enter to stop):  EWQ\n",
      "Enter a line (or press Enter to stop):  \n"
     ]
    },
    {
     "name": "stdout",
     "output_type": "stream",
     "text": [
      "6\n",
      "5\n",
      "4\n",
      "3\n",
      "2\n",
      "1\n",
      "8\n",
      "6\n",
      "5\n",
      "3\n",
      "3\n",
      "3\n",
      "33\n",
      "3\n",
      "3\n",
      "3\n",
      "3\n",
      "3\n",
      "3\n",
      "3\n",
      "3\n",
      "3\n",
      "3\n",
      "3\n",
      "3\n",
      "3\n",
      "3\n",
      "3\n",
      "3\n",
      "3\n",
      "3\n",
      "3\n",
      "D\n",
      "DF\n",
      "WEW\n",
      "E-\n",
      "EWQ\n"
     ]
    }
   ],
   "source": [
    "def capitalize_lines():\n",
    "    lines = []\n",
    "    while True:\n",
    "        try:\n",
    "            line = input(\"Enter a line (or press Enter to stop): \")\n",
    "            if line == \"\":\n",
    "                break\n",
    "            lines.append(line.upper())\n",
    "        except EOFError:\n",
    "            break\n",
    "\n",
    "    for line in lines:\n",
    "        print(line)\n",
    "\n",
    "capitalize_lines()\n"
   ]
  },
  {
   "cell_type": "markdown",
   "id": "46ab14d9-f10d-4d3a-b278-3abdcacf5fac",
   "metadata": {},
   "source": [
    "Task5:\n",
    "You need to write a function that counts the number of vowels in a given sentence as input from console.\n",
    "Suppose the following input is supplied to the program:\n",
    "Hello world\n",
    "Practice makes perfect Then, the output should be:\n",
    "a appeared 2 times e appeared 5 times i appeared 1 time o appeared 2 times u appeared 0 time\n",
    "PRACTICE MAKES PERFECT\n"
   ]
  },
  {
   "cell_type": "code",
   "execution_count": 15,
   "id": "4d38e62d-a4c6-433a-a10f-6646fabfb2b5",
   "metadata": {},
   "outputs": [
    {
     "name": "stdin",
     "output_type": "stream",
     "text": [
      "Enter a sentence:  5\n"
     ]
    },
    {
     "name": "stdout",
     "output_type": "stream",
     "text": [
      "a appeared 0 times\n",
      "e appeared 0 times\n",
      "i appeared 0 times\n",
      "o appeared 0 times\n",
      "u appeared 0 times\n",
      "5\n"
     ]
    }
   ],
   "source": [
    "def count_vowels():\n",
    "    sentence = input(\"Enter a sentence: \")\n",
    "    vowels = \"aeiou\"\n",
    "    vowel_counts = {vowel: sentence.lower().count(vowel) for vowel in vowels}\n",
    "    \n",
    "    for vowel, count in vowel_counts.items():\n",
    "        print(f\"{vowel} appeared {count} time{'s' if count != 1 else ''}\")\n",
    "    \n",
    "    print(sentence.upper())\n",
    "\n",
    "count_vowels()\n"
   ]
  },
  {
   "cell_type": "markdown",
   "id": "b9b63b41-50a0-467a-b3f8-deb61472bc87",
   "metadata": {},
   "source": [
    "Task6:\n",
    "You need write a function that traces and makes a list of all such numbers from1000 to 3000 in which all the digits are even numbers.\n"
   ]
  },
  {
   "cell_type": "code",
   "execution_count": 18,
   "id": "2b4c1463-38f3-4dc9-b9f2-5f66a76a718c",
   "metadata": {},
   "outputs": [
    {
     "name": "stdout",
     "output_type": "stream",
     "text": [
      "2000,2002,2004,2006,2008,2020,2022,2024,2026,2028,2040,2042,2044,2046,2048,2060,2062,2064,2066,2068,2080,2082,2084,2086,2088,2200,2202,2204,2206,2208,2220,2222,2224,2226,2228,2240,2242,2244,2246,2248,2260,2262,2264,2266,2268,2280,2282,2284,2286,2288,2400,2402,2404,2406,2408,2420,2422,2424,2426,2428,2440,2442,2444,2446,2448,2460,2462,2464,2466,2468,2480,2482,2484,2486,2488,2600,2602,2604,2606,2608,2620,2622,2624,2626,2628,2640,2642,2644,2646,2648,2660,2662,2664,2666,2668,2680,2682,2684,2686,2688,2800,2802,2804,2806,2808,2820,2822,2824,2826,2828,2840,2842,2844,2846,2848,2860,2862,2864,2866,2868,2880,2882,2884,2886,2888\n"
     ]
    }
   ],
   "source": [
    "def find_even_digit_numbers():\n",
    "    result = []\n",
    "    for num in range(1000, 3001):\n",
    "        if all(int(digit) % 2 == 0 for digit in str(num)):\n",
    "            result.append(str(num))\n",
    "    return ','.join(result)\n",
    "\n",
    "print(find_even_digit_numbers())\n"
   ]
  },
  {
   "cell_type": "markdown",
   "id": "e10bde7d-d1e9-4070-8180-32554b2fda7c",
   "metadata": {},
   "source": [
    "Task7:\n",
    "You need to write a code which accepts a sequence of comma separated 4 digit binary numbers as its input and then check whether they are divisible by 5 or not. The numbers that are divisible by 5 are to be printed in a comma separated sequence.\n",
    "Example:\n",
    "0100,0011,1010,1001\n",
    "Then the output should be:\n",
    "1010\n"
   ]
  },
  {
   "cell_type": "code",
   "execution_count": 21,
   "id": "7a92990e-7100-4eed-8570-9c7ffdcb9593",
   "metadata": {},
   "outputs": [
    {
     "name": "stdin",
     "output_type": "stream",
     "text": [
      "Enter a sequence of 4-digit binary numbers (comma-separated):  E\n"
     ]
    },
    {
     "ename": "ValueError",
     "evalue": "invalid literal for int() with base 2: 'E'",
     "output_type": "error",
     "traceback": [
      "\u001b[1;31m---------------------------------------------------------------------------\u001b[0m",
      "\u001b[1;31mValueError\u001b[0m                                Traceback (most recent call last)",
      "Cell \u001b[1;32mIn[21], line 6\u001b[0m\n\u001b[0;32m      3\u001b[0m     divisible \u001b[38;5;241m=\u001b[39m [binary \u001b[38;5;28;01mfor\u001b[39;00m binary \u001b[38;5;129;01min\u001b[39;00m binaries \u001b[38;5;28;01mif\u001b[39;00m \u001b[38;5;28mint\u001b[39m(binary, \u001b[38;5;241m2\u001b[39m) \u001b[38;5;241m%\u001b[39m \u001b[38;5;241m5\u001b[39m \u001b[38;5;241m==\u001b[39m \u001b[38;5;241m0\u001b[39m]\n\u001b[0;32m      4\u001b[0m     \u001b[38;5;28;01mreturn\u001b[39;00m \u001b[38;5;124m'\u001b[39m\u001b[38;5;124m,\u001b[39m\u001b[38;5;124m'\u001b[39m\u001b[38;5;241m.\u001b[39mjoin(divisible)\n\u001b[1;32m----> 6\u001b[0m \u001b[38;5;28mprint\u001b[39m(binary_divisible_by_5())\n",
      "Cell \u001b[1;32mIn[21], line 3\u001b[0m, in \u001b[0;36mbinary_divisible_by_5\u001b[1;34m()\u001b[0m\n\u001b[0;32m      1\u001b[0m \u001b[38;5;28;01mdef\u001b[39;00m \u001b[38;5;21mbinary_divisible_by_5\u001b[39m():\n\u001b[0;32m      2\u001b[0m     binaries \u001b[38;5;241m=\u001b[39m \u001b[38;5;28minput\u001b[39m(\u001b[38;5;124m\"\u001b[39m\u001b[38;5;124mEnter a sequence of 4-digit binary numbers (comma-separated): \u001b[39m\u001b[38;5;124m\"\u001b[39m)\u001b[38;5;241m.\u001b[39msplit(\u001b[38;5;124m'\u001b[39m\u001b[38;5;124m,\u001b[39m\u001b[38;5;124m'\u001b[39m)\n\u001b[1;32m----> 3\u001b[0m     divisible \u001b[38;5;241m=\u001b[39m [binary \u001b[38;5;28;01mfor\u001b[39;00m binary \u001b[38;5;129;01min\u001b[39;00m binaries \u001b[38;5;28;01mif\u001b[39;00m \u001b[38;5;28mint\u001b[39m(binary, \u001b[38;5;241m2\u001b[39m) \u001b[38;5;241m%\u001b[39m \u001b[38;5;241m5\u001b[39m \u001b[38;5;241m==\u001b[39m \u001b[38;5;241m0\u001b[39m]\n\u001b[0;32m      4\u001b[0m     \u001b[38;5;28;01mreturn\u001b[39;00m \u001b[38;5;124m'\u001b[39m\u001b[38;5;124m,\u001b[39m\u001b[38;5;124m'\u001b[39m\u001b[38;5;241m.\u001b[39mjoin(divisible)\n",
      "\u001b[1;31mValueError\u001b[0m: invalid literal for int() with base 2: 'E'"
     ]
    }
   ],
   "source": [
    "def binary_divisible_by_5():\n",
    "    binaries = input(\"Enter a sequence of 4-digit binary numbers (comma-separated): \").split(',')\n",
    "    divisible = [binary for binary in binaries if int(binary, 2) % 5 == 0]\n",
    "    return ','.join(divisible)\n",
    "\n",
    "print(binary_divisible_by_5())\n"
   ]
  },
  {
   "cell_type": "markdown",
   "id": "f3d6aadc-9da2-426a-a6ca-34fefec952a8",
   "metadata": {},
   "source": [
    "Task8:\n",
    "Write a program that accepts a sentence and calculate the number of letters and digits.\n",
    "Suppose the following input is supplied to the program: hello world! 123\n",
    "Then, the output should be: LETTERS 10\n",
    "DIGITS 3\n"
   ]
  },
  {
   "cell_type": "code",
   "execution_count": 24,
   "id": "4556e178-a668-47f1-aeab-ffe0258144db",
   "metadata": {},
   "outputs": [
    {
     "name": "stdin",
     "output_type": "stream",
     "text": [
      "Enter a sentence:  4\n"
     ]
    },
    {
     "name": "stdout",
     "output_type": "stream",
     "text": [
      "LETTERS 0\n",
      "DIGITS 1\n"
     ]
    }
   ],
   "source": [
    "def count_letters_and_digits():\n",
    "    sentence = input(\"Enter a sentence: \")\n",
    "    letters = sum(char.isalpha() for char in sentence)\n",
    "    digits = sum(char.isdigit() for char in sentence)\n",
    "    print(f\"LETTERS {letters}\")\n",
    "    print(f\"DIGITS {digits}\")\n",
    "\n",
    "count_letters_and_digits()\n"
   ]
  },
  {
   "cell_type": "code",
   "execution_count": null,
   "id": "0f699eda-343b-4420-9dc7-c70016ff89fc",
   "metadata": {},
   "outputs": [],
   "source": []
  }
 ],
 "metadata": {
  "kernelspec": {
   "display_name": "Python 3 (ipykernel)",
   "language": "python",
   "name": "python3"
  },
  "language_info": {
   "codemirror_mode": {
    "name": "ipython",
    "version": 3
   },
   "file_extension": ".py",
   "mimetype": "text/x-python",
   "name": "python",
   "nbconvert_exporter": "python",
   "pygments_lexer": "ipython3",
   "version": "3.12.7"
  }
 },
 "nbformat": 4,
 "nbformat_minor": 5
}
