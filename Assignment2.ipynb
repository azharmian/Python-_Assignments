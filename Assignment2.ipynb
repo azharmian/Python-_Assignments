{
 "cells": [
  {
   "cell_type": "markdown",
   "id": "0dbe2cd3-3e18-4f01-8594-f226160ec920",
   "metadata": {},
   "source": [
    "## Area of a Rectangle:"
   ]
  },
  {
   "cell_type": "code",
   "execution_count": 6,
   "id": "6feeb2d4-7336-4160-a5cd-0f5c224efdbf",
   "metadata": {},
   "outputs": [
    {
     "name": "stdin",
     "output_type": "stream",
     "text": [
      "Enter the Lenght: 10\n"
     ]
    }
   ],
   "source": [
    "lenght = int(input(\"Enter the Lenght:\"))"
   ]
  },
  {
   "cell_type": "code",
   "execution_count": 8,
   "id": "0b5c6abc-04d0-47c4-b421-7e493ff036a3",
   "metadata": {},
   "outputs": [
    {
     "name": "stdin",
     "output_type": "stream",
     "text": [
      "Enter the width: 12\n"
     ]
    }
   ],
   "source": [
    "width = int(input(\"Enter the width:\"))"
   ]
  },
  {
   "cell_type": "code",
   "execution_count": 10,
   "id": "5c5bfac9-3576-4f90-b6a1-d8daa54ef9a7",
   "metadata": {},
   "outputs": [
    {
     "data": {
      "text/plain": [
       "120"
      ]
     },
     "execution_count": 10,
     "metadata": {},
     "output_type": "execute_result"
    }
   ],
   "source": [
    "Area = lenght*width\n",
    "Area"
   ]
  },
  {
   "cell_type": "markdown",
   "id": "e2ed66c5-dd5b-4de5-b4da-df2d6ab14b08",
   "metadata": {},
   "source": [
    "## Circumference of a Circle:"
   ]
  },
  {
   "cell_type": "code",
   "execution_count": 36,
   "id": "0411b14d-02a5-4037-8072-b88600cd01cc",
   "metadata": {},
   "outputs": [
    {
     "name": "stdin",
     "output_type": "stream",
     "text": [
      "Enter the radius: 8\n"
     ]
    }
   ],
   "source": [
    "radius = int(input(\"Enter the radius:\"))"
   ]
  },
  {
   "cell_type": "raw",
   "id": "e0c01fd7-64ea-4581-acf9-0ec1d73d4942",
   "metadata": {},
   "source": [
    "circumference = 2 * 3.14159 * radius"
   ]
  },
  {
   "cell_type": "code",
   "execution_count": 38,
   "id": "33e8c862-ade2-4bfa-b98d-deb4547629d8",
   "metadata": {},
   "outputs": [
    {
     "name": "stdout",
     "output_type": "stream",
     "text": [
      "31.4159\n"
     ]
    }
   ],
   "source": [
    "print(circumference)"
   ]
  },
  {
   "cell_type": "markdown",
   "id": "efd5ce6f-cb6e-4253-9dda-618af9510036",
   "metadata": {},
   "source": [
    "# Simple Interest:"
   ]
  },
  {
   "cell_type": "code",
   "execution_count": 42,
   "id": "21707cad-3768-49e0-a742-997f10b0178f",
   "metadata": {},
   "outputs": [
    {
     "name": "stdin",
     "output_type": "stream",
     "text": [
      "Enter the principle: 5\n"
     ]
    }
   ],
   "source": [
    "principle = int(input(\"Enter the principle:\"))"
   ]
  },
  {
   "cell_type": "code",
   "execution_count": 44,
   "id": "233b04fd-0c14-40b6-a4e1-b2cf71e3e429",
   "metadata": {},
   "outputs": [
    {
     "name": "stdin",
     "output_type": "stream",
     "text": [
      "Enter the rate: 3\n"
     ]
    }
   ],
   "source": [
    "rate = int(input(\"Enter the rate:\"))"
   ]
  },
  {
   "cell_type": "code",
   "execution_count": 46,
   "id": "dd77fcba-786a-467f-aa00-82810eb44888",
   "metadata": {},
   "outputs": [
    {
     "name": "stdin",
     "output_type": "stream",
     "text": [
      "Enter the time: 2\n"
     ]
    }
   ],
   "source": [
    "time = int(input(\"Enter the time:\"))"
   ]
  },
  {
   "cell_type": "code",
   "execution_count": 48,
   "id": "ab9d1dc7-ebb1-4556-9cdc-a1e5708d9c4b",
   "metadata": {},
   "outputs": [
    {
     "data": {
      "text/plain": [
       "30"
      ]
     },
     "execution_count": 48,
     "metadata": {},
     "output_type": "execute_result"
    }
   ],
   "source": [
    "Simple_interest= principle * rate * time\n",
    "Simple_interest"
   ]
  },
  {
   "cell_type": "markdown",
   "id": "bc5fc442-230e-408e-a41a-9abc294f3f8e",
   "metadata": {},
   "source": [
    "# Speed of an Object:"
   ]
  },
  {
   "cell_type": "code",
   "execution_count": 51,
   "id": "9874a7e8-e961-4418-943d-2901cff47e93",
   "metadata": {},
   "outputs": [
    {
     "name": "stdin",
     "output_type": "stream",
     "text": [
      "Enter the distance: 10\n"
     ]
    }
   ],
   "source": [
    "distance = int(input(\"Enter the distance:\"))"
   ]
  },
  {
   "cell_type": "code",
   "execution_count": 53,
   "id": "672dd04a-9adc-4e5d-b922-3e2120e399fb",
   "metadata": {},
   "outputs": [
    {
     "name": "stdin",
     "output_type": "stream",
     "text": [
      "Enter the time: 7\n"
     ]
    }
   ],
   "source": [
    "time = int(input(\"Enter the time:\"))"
   ]
  },
  {
   "cell_type": "code",
   "execution_count": 59,
   "id": "8ac30e7f-bbf5-4713-834d-0603aa703471",
   "metadata": {},
   "outputs": [],
   "source": [
    "speed = distance/time"
   ]
  },
  {
   "cell_type": "code",
   "execution_count": 61,
   "id": "90a739ca-a396-48f5-a66e-d51baca279b7",
   "metadata": {},
   "outputs": [
    {
     "data": {
      "text/plain": [
       "1.4285714285714286"
      ]
     },
     "execution_count": 61,
     "metadata": {},
     "output_type": "execute_result"
    }
   ],
   "source": [
    "speed"
   ]
  },
  {
   "cell_type": "markdown",
   "id": "b5de339c-a2e1-4626-8f47-541ff8116034",
   "metadata": {},
   "source": [
    "# BMI Calculator:"
   ]
  },
  {
   "cell_type": "code",
   "execution_count": 64,
   "id": "f197e73c-35f3-443c-bcde-759a58253b60",
   "metadata": {},
   "outputs": [
    {
     "name": "stdin",
     "output_type": "stream",
     "text": [
      "Enter the weight in kg: 65\n"
     ]
    }
   ],
   "source": [
    "weight= int(input(\"Enter the weight in kg:\"))"
   ]
  },
  {
   "cell_type": "code",
   "execution_count": 70,
   "id": "3eb215bf-3aff-4cf3-898b-d5d9b369b001",
   "metadata": {},
   "outputs": [
    {
     "name": "stdin",
     "output_type": "stream",
     "text": [
      "Enter height: 5.7\n"
     ]
    }
   ],
   "source": [
    "height = float(input(\"Enter height:\"))"
   ]
  },
  {
   "cell_type": "code",
   "execution_count": 72,
   "id": "32d2da09-d093-41be-b616-bac2a3434170",
   "metadata": {},
   "outputs": [
    {
     "data": {
      "text/plain": [
       "32.49"
      ]
     },
     "execution_count": 72,
     "metadata": {},
     "output_type": "execute_result"
    }
   ],
   "source": [
    "square_height = height**2\n",
    "square_height"
   ]
  },
  {
   "cell_type": "code",
   "execution_count": 74,
   "id": "50a0c1e9-ac2e-42aa-aaca-72123aaff7c0",
   "metadata": {},
   "outputs": [
    {
     "data": {
      "text/plain": [
       "2.0006155740227762"
      ]
     },
     "execution_count": 74,
     "metadata": {},
     "output_type": "execute_result"
    }
   ],
   "source": [
    "BMI = weight/square_height\n",
    "BMI"
   ]
  },
  {
   "cell_type": "markdown",
   "id": "c2e088d2-76c1-44bf-a808-9127658b9b19",
   "metadata": {},
   "source": [
    "# Force Using Newton's Second Law:"
   ]
  },
  {
   "cell_type": "code",
   "execution_count": 79,
   "id": "c81bbb22-f1ff-4c6b-bada-7c2c6041b970",
   "metadata": {},
   "outputs": [
    {
     "name": "stdin",
     "output_type": "stream",
     "text": [
      "Enter the Mass: 9\n"
     ]
    }
   ],
   "source": [
    "Mass = int(input(\"Enter the Mass:\"))"
   ]
  },
  {
   "cell_type": "code",
   "execution_count": 81,
   "id": "7c03eb0e-9279-4030-992e-acdda7b8f43a",
   "metadata": {},
   "outputs": [
    {
     "name": "stdin",
     "output_type": "stream",
     "text": [
      "Enter the Acceleration: 4\n"
     ]
    }
   ],
   "source": [
    "Acceleration = int(input(\"Enter the Acceleration:\"))"
   ]
  },
  {
   "cell_type": "code",
   "execution_count": 83,
   "id": "35fa63cf-2618-4974-b258-3db5842de516",
   "metadata": {},
   "outputs": [],
   "source": [
    "force = Mass *Acceleration"
   ]
  },
  {
   "cell_type": "code",
   "execution_count": 85,
   "id": "9ac198b4-1dd8-4275-9c9b-8245d4fd0bd9",
   "metadata": {},
   "outputs": [
    {
     "data": {
      "text/plain": [
       "36"
      ]
     },
     "execution_count": 85,
     "metadata": {},
     "output_type": "execute_result"
    }
   ],
   "source": [
    "force"
   ]
  },
  {
   "cell_type": "markdown",
   "id": "e33d0cfb-c62b-422b-9168-7fb19f407f4d",
   "metadata": {},
   "source": [
    "# Compound Interest:"
   ]
  },
  {
   "cell_type": "code",
   "execution_count": 88,
   "id": "b1018a9d-467a-4e84-9bfe-c38c3de1d983",
   "metadata": {},
   "outputs": [
    {
     "name": "stdin",
     "output_type": "stream",
     "text": [
      "Enter principle amount: 9\n"
     ]
    }
   ],
   "source": [
    "p= int(input(\"Enter principle amount:\"))"
   ]
  },
  {
   "cell_type": "code",
   "execution_count": 92,
   "id": "b488bdbc-1921-4de0-912a-955f0adc8736",
   "metadata": {},
   "outputs": [
    {
     "name": "stdin",
     "output_type": "stream",
     "text": [
      "Enter annaual interest rate: 7\n"
     ]
    }
   ],
   "source": [
    "r= int(input(\"Enter annaual interest rate:\"))"
   ]
  },
  {
   "cell_type": "code",
   "execution_count": 94,
   "id": "89ad0b3f-eaab-49f0-8df0-f6e1c3d616c7",
   "metadata": {},
   "outputs": [
    {
     "name": "stdin",
     "output_type": "stream",
     "text": [
      "Enter the number of times interest is compounded per year: 6\n"
     ]
    }
   ],
   "source": [
    "n = int(input(\"Enter the number of times interest is compounded per year:\"))"
   ]
  },
  {
   "cell_type": "code",
   "execution_count": 96,
   "id": "4acae1e3-73ff-4796-b9f9-300663276d38",
   "metadata": {},
   "outputs": [
    {
     "name": "stdin",
     "output_type": "stream",
     "text": [
      "Enter time in year: 2\n"
     ]
    }
   ],
   "source": [
    "t = int(input(\"Enter time in year:\"))"
   ]
  },
  {
   "cell_type": "code",
   "execution_count": 102,
   "id": "02ebc04c-8b95-457e-9a2a-6be0fb386f66",
   "metadata": {},
   "outputs": [],
   "source": [
    " A = p*(1+r/n)**n-t"
   ]
  },
  {
   "cell_type": "code",
   "execution_count": 104,
   "id": "1167932a-316c-4438-b72a-23d6869e0ffb",
   "metadata": {},
   "outputs": [
    {
     "data": {
      "text/plain": [
       "929.0974151234575"
      ]
     },
     "execution_count": 104,
     "metadata": {},
     "output_type": "execute_result"
    }
   ],
   "source": [
    "A"
   ]
  },
  {
   "cell_type": "markdown",
   "id": "312ee4e0-2f4a-4347-9e8b-42e3c47722c9",
   "metadata": {},
   "source": [
    "# Perimeter of a Triangle:"
   ]
  },
  {
   "cell_type": "code",
   "execution_count": 107,
   "id": "6964e269-8945-4428-b85f-88ddf9c6076c",
   "metadata": {},
   "outputs": [
    {
     "name": "stdin",
     "output_type": "stream",
     "text": [
      "Enter lenght_1: 10\n"
     ]
    }
   ],
   "source": [
    "x = int(input(\"Enter lenght_1:\"))"
   ]
  },
  {
   "cell_type": "code",
   "execution_count": 109,
   "id": "6d9e6117-f0d3-4af2-aec8-d1dad6e39970",
   "metadata": {},
   "outputs": [
    {
     "name": "stdin",
     "output_type": "stream",
     "text": [
      "Enter lenght_2: 20\n"
     ]
    }
   ],
   "source": [
    "y = int(input(\"Enter lenght_2:\"))"
   ]
  },
  {
   "cell_type": "code",
   "execution_count": 111,
   "id": "12cb96eb-7a59-48ea-9411-0aaa8950a81d",
   "metadata": {},
   "outputs": [
    {
     "name": "stdin",
     "output_type": "stream",
     "text": [
      "Enter lenght_3: 30\n"
     ]
    }
   ],
   "source": [
    "z = int(input(\"Enter lenght_3:\"))"
   ]
  },
  {
   "cell_type": "code",
   "execution_count": 113,
   "id": "aec38dcb-fbdc-4a01-ac73-63c1f5541d18",
   "metadata": {},
   "outputs": [],
   "source": [
    "P = x + y + z"
   ]
  },
  {
   "cell_type": "code",
   "execution_count": 115,
   "id": "60af0fd4-0f31-4720-bf8b-83c94492e688",
   "metadata": {},
   "outputs": [
    {
     "data": {
      "text/plain": [
       "60"
      ]
     },
     "execution_count": 115,
     "metadata": {},
     "output_type": "execute_result"
    }
   ],
   "source": [
    "P"
   ]
  },
  {
   "cell_type": "markdown",
   "id": "9ee1ff2b-92d2-4161-ab46-2b7af04437e1",
   "metadata": {},
   "source": [
    "# Volume of a Sphere:"
   ]
  },
  {
   "cell_type": "code",
   "execution_count": 118,
   "id": "9cb10315-3c85-4a42-90c4-377d4ff1ed88",
   "metadata": {},
   "outputs": [
    {
     "name": "stdin",
     "output_type": "stream",
     "text": [
      "Enter the radius: 15\n"
     ]
    }
   ],
   "source": [
    "radius = int(input(\"Enter the radius:\"))"
   ]
  },
  {
   "cell_type": "code",
   "execution_count": 124,
   "id": "44eca34d-1d9b-4e9a-86e4-e76355a4e31b",
   "metadata": {},
   "outputs": [],
   "source": [
    "volume = 4/3*(3.142)*radius**3"
   ]
  },
  {
   "cell_type": "code",
   "execution_count": 126,
   "id": "489c82db-54c0-462c-b290-7e2900f373a1",
   "metadata": {},
   "outputs": [
    {
     "data": {
      "text/plain": [
       "14138.999999999998"
      ]
     },
     "execution_count": 126,
     "metadata": {},
     "output_type": "execute_result"
    }
   ],
   "source": [
    "volume"
   ]
  },
  {
   "cell_type": "markdown",
   "id": "8e9b99c5-0e30-43ba-a17e-9554f05727bd",
   "metadata": {},
   "source": [
    "# Kinetic Energy:"
   ]
  },
  {
   "cell_type": "code",
   "execution_count": 129,
   "id": "a6b1fe44-9b25-4050-9e52-8795cc065834",
   "metadata": {},
   "outputs": [
    {
     "name": "stdin",
     "output_type": "stream",
     "text": [
      "Enter the mass: 13.7\n"
     ]
    }
   ],
   "source": [
    "mass = float(input(\"Enter the mass:\"))"
   ]
  },
  {
   "cell_type": "code",
   "execution_count": 131,
   "id": "cb48ad63-278f-4c54-83df-a08466d4047b",
   "metadata": {},
   "outputs": [
    {
     "name": "stdin",
     "output_type": "stream",
     "text": [
      "Enter the velocity/mass: 100\n"
     ]
    }
   ],
   "source": [
    "velocity = int(input(\"Enter the velocity/mass:\"))"
   ]
  },
  {
   "cell_type": "code",
   "execution_count": 139,
   "id": "afd53454-2c9b-43ea-b199-6afb3b66b31b",
   "metadata": {},
   "outputs": [],
   "source": [
    "KE = 1/2*mass*velocity**2"
   ]
  },
  {
   "cell_type": "code",
   "execution_count": 141,
   "id": "8dfaa764-d725-43a2-aa3b-6f465a867262",
   "metadata": {},
   "outputs": [
    {
     "data": {
      "text/plain": [
       "68500.0"
      ]
     },
     "execution_count": 141,
     "metadata": {},
     "output_type": "execute_result"
    }
   ],
   "source": [
    "KE"
   ]
  },
  {
   "cell_type": "markdown",
   "id": "ca2655f9-57d3-4cf6-8e5f-e3ec2d17aa36",
   "metadata": {},
   "source": [
    " # Quadratic Equation Roots:"
   ]
  },
  {
   "cell_type": "code",
   "execution_count": 144,
   "id": "69b23bed-c482-469c-b41c-6a936fa1119f",
   "metadata": {},
   "outputs": [
    {
     "name": "stdin",
     "output_type": "stream",
     "text": [
      "Enter the value_1: 4\n"
     ]
    }
   ],
   "source": [
    "a = int(input(\"Enter the value_1:\"))"
   ]
  },
  {
   "cell_type": "code",
   "execution_count": 146,
   "id": "60c40d49-b09a-4c38-887e-0ad5a353fbf6",
   "metadata": {},
   "outputs": [
    {
     "name": "stdin",
     "output_type": "stream",
     "text": [
      "Enter the value_2: 8\n"
     ]
    }
   ],
   "source": [
    "b = int(input(\"Enter the value_2:\"))"
   ]
  },
  {
   "cell_type": "code",
   "execution_count": 148,
   "id": "d807c145-6fb6-4cd2-bf81-c1e0aa4d30c7",
   "metadata": {},
   "outputs": [
    {
     "name": "stdin",
     "output_type": "stream",
     "text": [
      "Enter the value_3: 12\n"
     ]
    }
   ],
   "source": [
    "c = int(input(\"Enter the value_3:\"))"
   ]
  },
  {
   "cell_type": "code",
   "execution_count": 150,
   "id": "5cd5e7fd-1d3f-4028-99ab-a9b3b4c9a206",
   "metadata": {},
   "outputs": [],
   "source": [
    "y = (b**2-4*a*c)"
   ]
  },
  {
   "cell_type": "code",
   "execution_count": 152,
   "id": "3a692215-2b80-4132-91ff-b132dc851c41",
   "metadata": {},
   "outputs": [
    {
     "data": {
      "text/plain": [
       "-128"
      ]
     },
     "execution_count": 152,
     "metadata": {},
     "output_type": "execute_result"
    }
   ],
   "source": [
    "y"
   ]
  },
  {
   "cell_type": "code",
   "execution_count": 154,
   "id": "173fcc02-a36f-4dbb-96a5-e25940371c77",
   "metadata": {},
   "outputs": [],
   "source": [
    "z = y**1/2"
   ]
  },
  {
   "cell_type": "code",
   "execution_count": 156,
   "id": "b811caba-d094-4251-8595-23cb2002039d",
   "metadata": {},
   "outputs": [
    {
     "data": {
      "text/plain": [
       "-64.0"
      ]
     },
     "execution_count": 156,
     "metadata": {},
     "output_type": "execute_result"
    }
   ],
   "source": [
    "z"
   ]
  },
  {
   "cell_type": "code",
   "execution_count": 158,
   "id": "d5f8505a-2f89-4250-9751-d2b8e4c5865d",
   "metadata": {},
   "outputs": [],
   "source": [
    "x_1 = -b+z/2*a"
   ]
  },
  {
   "cell_type": "code",
   "execution_count": 160,
   "id": "9bf1926c-4796-4199-834b-cba77056a143",
   "metadata": {},
   "outputs": [
    {
     "data": {
      "text/plain": [
       "-136.0"
      ]
     },
     "execution_count": 160,
     "metadata": {},
     "output_type": "execute_result"
    }
   ],
   "source": [
    "x_1"
   ]
  },
  {
   "cell_type": "code",
   "execution_count": 162,
   "id": "e370f587-16f7-4d8f-bbd7-dccfa4b53968",
   "metadata": {},
   "outputs": [],
   "source": [
    "x_2 = -b-z/2*2"
   ]
  },
  {
   "cell_type": "code",
   "execution_count": 164,
   "id": "b67125bf-a079-4dbe-aa86-ff1db6f9dffd",
   "metadata": {},
   "outputs": [
    {
     "data": {
      "text/plain": [
       "56.0"
      ]
     },
     "execution_count": 164,
     "metadata": {},
     "output_type": "execute_result"
    }
   ],
   "source": [
    "x_2"
   ]
  },
  {
   "cell_type": "markdown",
   "id": "772a7a92-f304-4057-b37f-d2e44ca2e6f5",
   "metadata": {},
   "source": [
    "# Temperature Conversion:"
   ]
  },
  {
   "cell_type": "code",
   "execution_count": 173,
   "id": "54689672-efbf-4b50-ae53-b3f14c80fbf8",
   "metadata": {},
   "outputs": [
    {
     "name": "stdin",
     "output_type": "stream",
     "text": [
      "Enter the temperature: 37\n"
     ]
    }
   ],
   "source": [
    "c = int(input(\"Enter the temperature:\"))"
   ]
  },
  {
   "cell_type": "code",
   "execution_count": 175,
   "id": "a1064c60-891e-473b-8a98-ba9d6232ae33",
   "metadata": {},
   "outputs": [],
   "source": [
    "F = 9/5 *c+32"
   ]
  },
  {
   "cell_type": "code",
   "execution_count": 177,
   "id": "d4abef77-f928-4988-bebc-4bc4c37f0d69",
   "metadata": {},
   "outputs": [
    {
     "data": {
      "text/plain": [
       "98.60000000000001"
      ]
     },
     "execution_count": 177,
     "metadata": {},
     "output_type": "execute_result"
    }
   ],
   "source": [
    "F "
   ]
  },
  {
   "cell_type": "markdown",
   "id": "01705330-7e32-4296-93b4-bd5bc2109a11",
   "metadata": {},
   "source": [
    "# Gravitational Force:"
   ]
  },
  {
   "cell_type": "code",
   "execution_count": 182,
   "id": "416bcc69-24b9-4f97-a79d-016e336bb4fc",
   "metadata": {},
   "outputs": [
    {
     "name": "stdin",
     "output_type": "stream",
     "text": [
      "Enter the mass_1: 3\n"
     ]
    }
   ],
   "source": [
    "m1 = int(input(\"Enter the mass_1:\"))"
   ]
  },
  {
   "cell_type": "code",
   "execution_count": 184,
   "id": "9ef4d2de-f24d-456d-973b-c5c5ab71ec7f",
   "metadata": {},
   "outputs": [
    {
     "name": "stdin",
     "output_type": "stream",
     "text": [
      "Enter the mass_1: 5\n"
     ]
    }
   ],
   "source": [
    "m2 = int(input(\"Enter the mass_1:\"))"
   ]
  },
  {
   "cell_type": "code",
   "execution_count": 186,
   "id": "723de82c-b010-44e9-9d58-a7999673f5f8",
   "metadata": {},
   "outputs": [
    {
     "name": "stdin",
     "output_type": "stream",
     "text": [
      "Enter the radius: 7\n"
     ]
    }
   ],
   "source": [
    "r = int(input(\"Enter the radius:\"))"
   ]
  },
  {
   "cell_type": "code",
   "execution_count": 188,
   "id": "bc49f47b-c00f-40de-ae83-9e10a842a40f",
   "metadata": {},
   "outputs": [],
   "source": [
    "a =m1*m2/r**2"
   ]
  },
  {
   "cell_type": "code",
   "execution_count": 190,
   "id": "a9a29494-be2a-4723-ab8b-911f8372a831",
   "metadata": {},
   "outputs": [
    {
     "data": {
      "text/plain": [
       "0.30612244897959184"
      ]
     },
     "execution_count": 190,
     "metadata": {},
     "output_type": "execute_result"
    }
   ],
   "source": [
    "a"
   ]
  },
  {
   "cell_type": "markdown",
   "id": "b21008c1-93ab-4e4f-a839-7651abce86a8",
   "metadata": {},
   "source": [
    "# Volume of a Cylinder:"
   ]
  },
  {
   "cell_type": "code",
   "execution_count": 193,
   "id": "6d67dddc-3d70-44a1-8bc7-50c7d22e69bf",
   "metadata": {},
   "outputs": [
    {
     "name": "stdin",
     "output_type": "stream",
     "text": [
      "Enter the radius: 7\n"
     ]
    }
   ],
   "source": [
    "r = int(input(\"Enter the radius:\"))"
   ]
  },
  {
   "cell_type": "code",
   "execution_count": 195,
   "id": "4fc8605b-73c9-4ec9-b730-2a0177a3aa1e",
   "metadata": {},
   "outputs": [
    {
     "name": "stdin",
     "output_type": "stream",
     "text": [
      "Enter the height: 9\n"
     ]
    }
   ],
   "source": [
    "h = int(input(\"Enter the height:\"))"
   ]
  },
  {
   "cell_type": "code",
   "execution_count": 197,
   "id": "1215c0a0-6d8d-4451-90f4-1a43a7cc7471",
   "metadata": {},
   "outputs": [],
   "source": [
    "volume = (3.14)*(r**2)*(h)"
   ]
  },
  {
   "cell_type": "code",
   "execution_count": 199,
   "id": "96100e86-e5ee-4b0a-9566-fbfdab74fc5a",
   "metadata": {},
   "outputs": [
    {
     "data": {
      "text/plain": [
       "1384.7400000000002"
      ]
     },
     "execution_count": 199,
     "metadata": {},
     "output_type": "execute_result"
    }
   ],
   "source": [
    "volume"
   ]
  },
  {
   "cell_type": "markdown",
   "id": "bdab6c16-ca1c-4d5f-9a6c-625663e2d3cc",
   "metadata": {},
   "source": [
    "# Pressure:"
   ]
  },
  {
   "cell_type": "code",
   "execution_count": 202,
   "id": "aa7d2b94-db69-46a5-accd-22942993e780",
   "metadata": {},
   "outputs": [
    {
     "name": "stdin",
     "output_type": "stream",
     "text": [
      "Enter the force: 17\n"
     ]
    }
   ],
   "source": [
    "f = int(input(\"Enter the force:\"))"
   ]
  },
  {
   "cell_type": "code",
   "execution_count": 204,
   "id": "8ac7ee41-bfd3-4275-9c6a-2410ba425e57",
   "metadata": {},
   "outputs": [
    {
     "name": "stdin",
     "output_type": "stream",
     "text": [
      "Enter the area: 22\n"
     ]
    }
   ],
   "source": [
    "a = int(input(\"Enter the area:\"))"
   ]
  },
  {
   "cell_type": "code",
   "execution_count": 206,
   "id": "16dc956c-706b-41cf-b831-d60bbf5b85f8",
   "metadata": {},
   "outputs": [],
   "source": [
    "p = f/a"
   ]
  },
  {
   "cell_type": "code",
   "execution_count": 208,
   "id": "6755dbb7-7ef4-46aa-9319-cda78afe73c0",
   "metadata": {},
   "outputs": [
    {
     "data": {
      "text/plain": [
       "0.7727272727272727"
      ]
     },
     "execution_count": 208,
     "metadata": {},
     "output_type": "execute_result"
    }
   ],
   "source": [
    "p"
   ]
  },
  {
   "cell_type": "markdown",
   "id": "d5828f49-f115-4367-8b4e-f586e5e5d420",
   "metadata": {},
   "source": [
    "# Electric Power:"
   ]
  },
  {
   "cell_type": "code",
   "execution_count": 211,
   "id": "02d10298-4860-49d6-95e9-495d6e42ff76",
   "metadata": {},
   "outputs": [
    {
     "name": "stdin",
     "output_type": "stream",
     "text": [
      "Enter the voltage: 6\n"
     ]
    }
   ],
   "source": [
    "V = int(input(\"Enter the voltage:\"))"
   ]
  },
  {
   "cell_type": "code",
   "execution_count": 213,
   "id": "e5e45414-9d01-4afe-865f-797f30028e0a",
   "metadata": {},
   "outputs": [
    {
     "name": "stdin",
     "output_type": "stream",
     "text": [
      "Enter the current: 12\n"
     ]
    }
   ],
   "source": [
    "I = int(input(\"Enter the current:\"))"
   ]
  },
  {
   "cell_type": "code",
   "execution_count": 215,
   "id": "932968fe-4e2e-48c6-ba77-1a83bc0e2cf5",
   "metadata": {},
   "outputs": [],
   "source": [
    "p = V/I"
   ]
  },
  {
   "cell_type": "code",
   "execution_count": 217,
   "id": "417ff43e-c5d5-400b-b2da-8d16ecbaa48a",
   "metadata": {},
   "outputs": [
    {
     "data": {
      "text/plain": [
       "60"
      ]
     },
     "execution_count": 217,
     "metadata": {},
     "output_type": "execute_result"
    }
   ],
   "source": [
    "P"
   ]
  },
  {
   "cell_type": "markdown",
   "id": "b545b213-640f-41e1-b99f-42efe82a4815",
   "metadata": {},
   "source": [
    "# Perimeter of a Circle (Circumference):"
   ]
  },
  {
   "cell_type": "code",
   "execution_count": 220,
   "id": "db77ebc8-8400-429e-a475-2c1c89cc52d4",
   "metadata": {},
   "outputs": [
    {
     "name": "stdin",
     "output_type": "stream",
     "text": [
      "Enter the radius: 15\n"
     ]
    }
   ],
   "source": [
    "r = int(input(\"Enter the radius:\"))"
   ]
  },
  {
   "cell_type": "code",
   "execution_count": 222,
   "id": "71efb43c-5079-4ea4-8659-c7488c64405f",
   "metadata": {},
   "outputs": [],
   "source": [
    "P = 2 *3.142*r"
   ]
  },
  {
   "cell_type": "code",
   "execution_count": 224,
   "id": "e2adcd2a-ad4e-494e-ac7b-847c75c31eae",
   "metadata": {},
   "outputs": [
    {
     "data": {
      "text/plain": [
       "94.25999999999999"
      ]
     },
     "execution_count": 224,
     "metadata": {},
     "output_type": "execute_result"
    }
   ],
   "source": [
    "P"
   ]
  },
  {
   "cell_type": "markdown",
   "id": "43f7bca5-4cf9-49fe-ae38-f8e9e8c4911a",
   "metadata": {},
   "source": [
    "# Future Value in Savings:"
   ]
  },
  {
   "cell_type": "code",
   "execution_count": 227,
   "id": "6d841325-7b37-424d-ac79-bc22e4af9e5d",
   "metadata": {},
   "outputs": [
    {
     "name": "stdin",
     "output_type": "stream",
     "text": [
      "Enter the present value: 104\n"
     ]
    }
   ],
   "source": [
    "PV = int(input(\"Enter the present value:\"))"
   ]
  },
  {
   "cell_type": "code",
   "execution_count": 229,
   "id": "ddbce098-9093-404d-8c11-6ac95abd9204",
   "metadata": {},
   "outputs": [
    {
     "name": "stdin",
     "output_type": "stream",
     "text": [
      "Enter the interest rate: 100\n"
     ]
    }
   ],
   "source": [
    "r = int(input(\"Enter the interest rate:\"))"
   ]
  },
  {
   "cell_type": "code",
   "execution_count": 231,
   "id": "5d34e893-9a5e-4174-883d-48367b7844f3",
   "metadata": {},
   "outputs": [
    {
     "name": "stdin",
     "output_type": "stream",
     "text": [
      "Enter time in years: 4\n"
     ]
    }
   ],
   "source": [
    "t = int(input(\"Enter time in years:\"))"
   ]
  },
  {
   "cell_type": "code",
   "execution_count": 233,
   "id": "a098501d-3ac8-49ea-b580-3d0dfcff705a",
   "metadata": {},
   "outputs": [],
   "source": [
    "FV = PV*(1+r)**t"
   ]
  },
  {
   "cell_type": "code",
   "execution_count": 235,
   "id": "0ffda655-40ca-44a7-ac52-6d999a35061b",
   "metadata": {},
   "outputs": [
    {
     "data": {
      "text/plain": [
       "10822281704"
      ]
     },
     "execution_count": 235,
     "metadata": {},
     "output_type": "execute_result"
    }
   ],
   "source": [
    "FV"
   ]
  },
  {
   "cell_type": "markdown",
   "id": "659f0384-6676-4dab-b52d-504c5999a341",
   "metadata": {},
   "source": [
    "# Work Done by a Force:"
   ]
  },
  {
   "cell_type": "code",
   "execution_count": 238,
   "id": "85a69af1-7ca2-46c3-b25a-90a8d0936cc7",
   "metadata": {},
   "outputs": [
    {
     "name": "stdin",
     "output_type": "stream",
     "text": [
      "Enter the Force: 8\n"
     ]
    }
   ],
   "source": [
    "F = int(input(\"Enter the Force:\"))"
   ]
  },
  {
   "cell_type": "code",
   "execution_count": 240,
   "id": "c00b3155-0290-4ed3-ac66-c7dd036b8b66",
   "metadata": {},
   "outputs": [
    {
     "name": "stdin",
     "output_type": "stream",
     "text": [
      "Enter the total distance: 20\n"
     ]
    }
   ],
   "source": [
    "d = int(input(\"Enter the total distance:\"))"
   ]
  },
  {
   "cell_type": "code",
   "execution_count": 242,
   "id": "df2dc4ae-eb59-4262-a05d-759fb70ff446",
   "metadata": {},
   "outputs": [
    {
     "name": "stdin",
     "output_type": "stream",
     "text": [
      "Enter the angle: 40\n"
     ]
    }
   ],
   "source": [
    "theta = int(input(\"Enter the angle:\"))"
   ]
  },
  {
   "cell_type": "code",
   "execution_count": 244,
   "id": "ff16ffcc-830b-4ee5-a2d5-9ada2a715781",
   "metadata": {},
   "outputs": [],
   "source": [
    "w = f*d*(0.70)"
   ]
  },
  {
   "cell_type": "code",
   "execution_count": 246,
   "id": "c806caf6-b48f-46a8-a5dd-e78971f3fa13",
   "metadata": {},
   "outputs": [
    {
     "data": {
      "text/plain": [
       "237.99999999999997"
      ]
     },
     "execution_count": 246,
     "metadata": {},
     "output_type": "execute_result"
    }
   ],
   "source": [
    "w"
   ]
  },
  {
   "cell_type": "markdown",
   "id": "05b1834c-7565-4290-bffb-23eef4bc8a80",
   "metadata": {},
   "source": [
    "# Heat Transfer: "
   ]
  },
  {
   "cell_type": "code",
   "execution_count": 249,
   "id": "4fcd5677-5e83-40be-ad73-2062245dd0ad",
   "metadata": {},
   "outputs": [
    {
     "name": "stdin",
     "output_type": "stream",
     "text": [
      "Enter mass: 2\n"
     ]
    }
   ],
   "source": [
    "m = int(input(\"Enter mass:\"))"
   ]
  },
  {
   "cell_type": "code",
   "execution_count": 251,
   "id": "f654b5e3-4601-41e1-85f4-0f6cd2abdd15",
   "metadata": {},
   "outputs": [
    {
     "name": "stdin",
     "output_type": "stream",
     "text": [
      "Enter heat capacity: 4\n"
     ]
    }
   ],
   "source": [
    "c = int(input(\"Enter heat capacity:\"))"
   ]
  },
  {
   "cell_type": "code",
   "execution_count": 253,
   "id": "79480076-7a81-421f-9f2e-2c242b10ba1e",
   "metadata": {},
   "outputs": [
    {
     "name": "stdin",
     "output_type": "stream",
     "text": [
      "Enter temperatue_1: 6\n"
     ]
    }
   ],
   "source": [
    "T1 = int(input(\"Enter temperatue_1:\"))"
   ]
  },
  {
   "cell_type": "code",
   "execution_count": 255,
   "id": "05419acd-fabc-4de9-8deb-bdb40bc9b81a",
   "metadata": {},
   "outputs": [
    {
     "name": "stdin",
     "output_type": "stream",
     "text": [
      "Enter temperatue_2: 8\n"
     ]
    }
   ],
   "source": [
    "T2 = int(input(\"Enter temperatue_2:\"))"
   ]
  },
  {
   "cell_type": "code",
   "execution_count": 257,
   "id": "2cf50e76-96e3-4d39-9f41-1a50a6df207e",
   "metadata": {},
   "outputs": [],
   "source": [
    "Q= m*c*(T2-T1)"
   ]
  },
  {
   "cell_type": "code",
   "execution_count": 259,
   "id": "35523a96-f2b5-445a-9758-8f881b1253a1",
   "metadata": {},
   "outputs": [
    {
     "data": {
      "text/plain": [
       "16"
      ]
     },
     "execution_count": 259,
     "metadata": {},
     "output_type": "execute_result"
    }
   ],
   "source": [
    "Q"
   ]
  },
  {
   "cell_type": "code",
   "execution_count": null,
   "id": "d1e0f5d4-64fd-4a8f-82dd-0efc2d907e98",
   "metadata": {},
   "outputs": [],
   "source": []
  }
 ],
 "metadata": {
  "kernelspec": {
   "display_name": "Python 3 (ipykernel)",
   "language": "python",
   "name": "python3"
  },
  "language_info": {
   "codemirror_mode": {
    "name": "ipython",
    "version": 3
   },
   "file_extension": ".py",
   "mimetype": "text/x-python",
   "name": "python",
   "nbconvert_exporter": "python",
   "pygments_lexer": "ipython3",
   "version": "3.12.7"
  }
 },
 "nbformat": 4,
 "nbformat_minor": 5
}
