{
 "cells": [
  {
   "cell_type": "markdown",
   "id": "a6fc0be9-173d-469d-90c4-654a590d9606",
   "metadata": {},
   "source": [
    "1.\tWrite a program that prompts the user to input a number and display if the number is even or odd."
   ]
  },
  {
   "cell_type": "code",
   "execution_count": 4,
   "id": "97eae6da-02d7-4720-8049-ff310a3161c4",
   "metadata": {},
   "outputs": [
    {
     "name": "stdin",
     "output_type": "stream",
     "text": [
      "Enter a number:  2\n"
     ]
    },
    {
     "name": "stdout",
     "output_type": "stream",
     "text": [
      "2 is even.\n"
     ]
    }
   ],
   "source": [
    "# Program to check if a number is even or odd\n",
    "number = int(input(\"Enter a number: \"))\n",
    "if number % 2 == 0:\n",
    "    print(f\"{number} is even.\")\n",
    "else:\n",
    "    print(f\"{number} is odd.\")\n"
   ]
  },
  {
   "cell_type": "markdown",
   "id": "f6e62388-58ff-45a9-9224-2a7bcc0bb5b9",
   "metadata": {},
   "source": [
    "2.\tWrite a Python program that takes an age as input and determines whether a person is eligible to vote. If the age is 18 or above, print \"You are eligible to vote.\" Otherwise, print \"You are not eligible to vote yet.\"."
   ]
  },
  {
   "cell_type": "code",
   "execution_count": 7,
   "id": "f681df2b-1595-4c3c-a0e8-10a6e41fe617",
   "metadata": {},
   "outputs": [
    {
     "name": "stdin",
     "output_type": "stream",
     "text": [
      "Enter your age:  7\n"
     ]
    },
    {
     "name": "stdout",
     "output_type": "stream",
     "text": [
      "You are not eligible to vote yet.\n"
     ]
    }
   ],
   "source": [
    "# Program to check if a person is eligible to vote\n",
    "age = int(input(\"Enter your age: \"))\n",
    "if age >= 18:\n",
    "    print(\"You are eligible to vote.\")\n",
    "else:\n",
    "    print(\"You are not eligible to vote yet.\")\n"
   ]
  },
  {
   "cell_type": "markdown",
   "id": "761fd534-3d41-4b04-8fe9-192dcdf0b6c2",
   "metadata": {},
   "source": [
    "3.\tWrite a program that prompts the user to input two integers and outputs the largest."
   ]
  },
  {
   "cell_type": "code",
   "execution_count": 10,
   "id": "53ed2525-6c63-426c-ad3c-8103f2e0c75e",
   "metadata": {},
   "outputs": [
    {
     "name": "stdin",
     "output_type": "stream",
     "text": [
      "Enter the first integer:  7\n",
      "Enter the second integer:  7\n"
     ]
    },
    {
     "name": "stdout",
     "output_type": "stream",
     "text": [
      "Both numbers are equal.\n"
     ]
    }
   ],
   "source": [
    "# Program to find the largest of two integers\n",
    "num1 = int(input(\"Enter the first integer: \"))\n",
    "num2 = int(input(\"Enter the second integer: \"))\n",
    "if num1 > num2:\n",
    "    print(f\"The largest number is {num1}.\")\n",
    "elif num2 > num1:\n",
    "    print(f\"The largest number is {num2}.\")\n",
    "else:\n",
    "    print(\"Both numbers are equal.\")\n"
   ]
  },
  {
   "cell_type": "markdown",
   "id": "b4e06a39-7859-45f1-8c3b-3a26792bc5c7",
   "metadata": {},
   "source": [
    "4.\tWrite a program that prompts the user to enter a number and determines whether it is positive, negative, or zero. The program should print \"Positive\" if the number is greater than 0, \"Negative\" if the number is less than 0, and \"Zero\" if the number is 0."
   ]
  },
  {
   "cell_type": "code",
   "execution_count": 13,
   "id": "cf6ff56b-b027-40b9-8c62-63d3745c47df",
   "metadata": {},
   "outputs": [
    {
     "name": "stdin",
     "output_type": "stream",
     "text": [
      "Enter a number:  6\n"
     ]
    },
    {
     "name": "stdout",
     "output_type": "stream",
     "text": [
      "Positive\n"
     ]
    }
   ],
   "source": [
    "# Program to determine if a number is positive, negative, or zero\n",
    "number = int(input(\"Enter a number: \"))\n",
    "if number > 0:\n",
    "    print(\"Positive\")\n",
    "elif number < 0:\n",
    "    print(\"Negative\")\n",
    "else:\n",
    "    print(\"Zero\")\n"
   ]
  },
  {
   "cell_type": "markdown",
   "id": "83300bd7-3466-4b45-9b97-11d95c3dce44",
   "metadata": {},
   "source": [
    "5.\tWrite a program that prompts the user to enter their age and prints the corresponding age group. The program should use the following age groups:\n",
    "0-12:\tChild\n",
    "13-19:\tTeenager\n",
    "20-59:\tAdult\n",
    "60 and above:\tSenior Citizen\n"
   ]
  },
  {
   "cell_type": "code",
   "execution_count": 16,
   "id": "5237dbb2-ffba-42b0-8ad6-c74c50f4b543",
   "metadata": {},
   "outputs": [
    {
     "name": "stdin",
     "output_type": "stream",
     "text": [
      "Enter your age:  4\n"
     ]
    },
    {
     "name": "stdout",
     "output_type": "stream",
     "text": [
      "Child\n"
     ]
    }
   ],
   "source": [
    "# Program to determine age group\n",
    "age = int(input(\"Enter your age: \"))\n",
    "if 0 <= age <= 12:\n",
    "    print(\"Child\")\n",
    "elif 13 <= age <= 19:\n",
    "    print(\"Teenager\")\n",
    "elif 20 <= age <= 59:\n",
    "    print(\"Adult\")\n",
    "elif age >= 60:\n",
    "    print(\"Senior Citizen\")\n",
    "else:\n",
    "    print(\"Invalid age entered.\")\n"
   ]
  },
  {
   "cell_type": "markdown",
   "id": "065dad95-e6b3-48fb-bf40-09978ae7d411",
   "metadata": {},
   "source": [
    "6.\tWrite a program that prompts the user to input a number from 1 to 7. The program should display the corresponding day for the given number. For example, if the user types 1, the output should be Sunday. If the user types 7, the output should be Saturday. If the number is not between 1 to 7 user should get error message as shown in sample output."
   ]
  },
  {
   "cell_type": "code",
   "execution_count": 19,
   "id": "4915f90f-d3b2-4307-915d-f7b692d4ec4a",
   "metadata": {},
   "outputs": [
    {
     "name": "stdin",
     "output_type": "stream",
     "text": [
      "Enter a number (1-7):  7\n"
     ]
    },
    {
     "name": "stdout",
     "output_type": "stream",
     "text": [
      "The day is Saturday.\n"
     ]
    }
   ],
   "source": [
    "# Program to display day of the week\n",
    "day_number = int(input(\"Enter a number (1-7): \"))\n",
    "days = {1: \"Sunday\", 2: \"Monday\", 3: \"Tuesday\", 4: \"Wednesday\", 5: \"Thursday\", 6: \"Friday\", 7: \"Saturday\"}\n",
    "if 1 <= day_number <= 7:\n",
    "    print(f\"The day is {days[day_number]}.\")\n",
    "else:\n",
    "    print(\"Error: Invalid number. Please enter a number between 1 and 7.\")\n"
   ]
  },
  {
   "cell_type": "markdown",
   "id": "4fef9745-58d7-4cc0-8ee2-57084a0c4069",
   "metadata": {},
   "source": [
    "7.\tWrite a program that prompts the user to enter their weight (in kilograms) and height (in meters). The program should calculate the Body Mass Index (BMI) using the formula: BMI = weight / (height * height). The program should then classify the BMI into one of the following categories:\n",
    "less than 18.5 - Underweight\n",
    "BMI between 18.5 and 24.9 - Normal weight BMI between 25 and 29.9 - Overweight\n",
    "BMI 30 or greater - Obesity\n"
   ]
  },
  {
   "cell_type": "code",
   "execution_count": 22,
   "id": "032badf8-4beb-4042-a300-bc796f2e4bfc",
   "metadata": {},
   "outputs": [
    {
     "name": "stdin",
     "output_type": "stream",
     "text": [
      "Enter your weight in kilograms:  5\n",
      "Enter your height in meters:  4\n"
     ]
    },
    {
     "name": "stdout",
     "output_type": "stream",
     "text": [
      "Your BMI is 0.31.\n",
      "Underweight\n"
     ]
    }
   ],
   "source": [
    "# Program to calculate BMI and classify\n",
    "weight = float(input(\"Enter your weight in kilograms: \"))\n",
    "height = float(input(\"Enter your height in meters: \"))\n",
    "bmi = weight / (height ** 2)\n",
    "print(f\"Your BMI is {bmi:.2f}.\")\n",
    "if bmi < 18.5:\n",
    "    print(\"Underweight\")\n",
    "elif 18.5 <= bmi < 24.9:\n",
    "    print(\"Normal weight\")\n",
    "elif 25 <= bmi < 29.9:\n",
    "    print(\"Overweight\")\n",
    "else:\n",
    "    print(\"Obesity\")\n"
   ]
  },
  {
   "cell_type": "markdown",
   "id": "80d35fce-a56a-4533-9d69-2ec6fd401c25",
   "metadata": {},
   "source": [
    "8.\tThe marks obtained by a student in 3 different subjects are input by the user. Your program should calculate the average of subjects and display the grade. The student gets a grade as per the following rules:\n",
    "Average Grade 90-100 A\n",
    "80-89\tB\n",
    "70-79\tC\n",
    " \n",
    "60-69\tD\n",
    "0-59\tF\n"
   ]
  },
  {
   "cell_type": "code",
   "execution_count": 26,
   "id": "cd6297af-2432-44da-aac9-59a0911da5dd",
   "metadata": {},
   "outputs": [
    {
     "name": "stdin",
     "output_type": "stream",
     "text": [
      "Enter marks for subject 1:  4\n",
      "Enter marks for subject 2:  4\n",
      "Enter marks for subject 3:  9\n"
     ]
    },
    {
     "name": "stdout",
     "output_type": "stream",
     "text": [
      "Average: 5.67\n",
      "Grade: F\n"
     ]
    }
   ],
   "source": [
    "# Program to calculate average and grade\n",
    "marks = [float(input(f\"Enter marks for subject {i+1}: \")) for i in range(3)]\n",
    "average = sum(marks) / len(marks)\n",
    "print(f\"Average: {average:.2f}\")\n",
    "if 90 <= average <= 100:\n",
    "    print(\"Grade: A\")\n",
    "elif 80 <= average < 90:\n",
    "    print(\"Grade: B\")\n",
    "elif 70 <= average < 80:\n",
    "    print(\"Grade: C\")\n",
    "elif 60 <= average < 70:\n",
    "    print(\"Grade: D\")\n",
    "else:\n",
    "    print(\"Grade: F\")\n"
   ]
  },
  {
   "cell_type": "markdown",
   "id": "c4eece67-671f-452a-95f5-fd552f1d66ec",
   "metadata": {},
   "source": [
    "9.\tThe roots of the quadratic equation ax2 + bx + c = 0, a ≠ 0 are given by the following formula:\n",
    "In this formula, the term b2 - 4ac is called the discriminant. If b2 - 4ac = 0, then the equation has two equal roots.\n",
    "If b2 - 4ac > 0, the equation has two real roots. If b2 - 4ac < 0, the equation has two complex roots.\n",
    "Write a program that prompts the user to input the value of a (the coefficient of x2), b (the coefficient of x), and c (the constant term) and outputs the roots of the quadratic equation.\n"
   ]
  },
  {
   "cell_type": "markdown",
   "id": "64963f43-7e80-43af-a389-173f81706f93",
   "metadata": {},
   "source": [
    "import math\n",
    "\n",
    "# Program to find roots of quadratic equation\n",
    "a = float(input(\"Enter coefficient a (a ≠ 0): \"))\n",
    "b = float(input(\"Enter coefficient b: \"))\n",
    "c = float(input(\"Enter coefficient c: \"))\n",
    "discriminant = b**2 - 4*a*c\n",
    "\n",
    "if discriminant > 0:\n",
    "    root1 = (-b + math.sqrt(discriminant)) / (2 * a)\n",
    "    root2 = (-b - math.sqrt(discriminant)) / (2 * a)\n",
    "    print(f\"The equation has two real roots: {root1:.2f} and {root2:.2f}\")\n",
    "elif discriminant == 0:\n",
    "    root = -b / (2 * a)\n",
    "    print(f\"The equation has one real root: {root:.2f}\")\n",
    "else:\n",
    "    real_part = -b / (2 * a)\n",
    "    imaginary_part = math.sqrt(-discriminant) / (2 * a)\n",
    "    print(f\"The equation has two complex roots: {real_part:.2f} + {imaginary_part:.2f}i and {real_part:.2f} - {imaginary_part:.2f}i\")\n"
   ]
  },
  {
   "cell_type": "markdown",
   "id": "1ed5120a-a1bf-45ec-8f3e-84d418109afc",
   "metadata": {},
   "source": [
    "10.\tWrite a program that prompts the user to enter three numbers and sorts them in ascending order. The program should print the sorted numbers."
   ]
  },
  {
   "cell_type": "code",
   "execution_count": 34,
   "id": "848293a3-c722-45e8-85b2-a9e2c41a133e",
   "metadata": {},
   "outputs": [
    {
     "name": "stdin",
     "output_type": "stream",
     "text": [
      "Enter number 1:  9\n",
      "Enter number 2:  7\n",
      "Enter number 3:  5\n"
     ]
    },
    {
     "name": "stdout",
     "output_type": "stream",
     "text": [
      "Sorted numbers: [5, 7, 9]\n"
     ]
    }
   ],
   "source": [
    "# Program to sort three numbers\n",
    "numbers = [int(input(f\"Enter number {i+1}: \")) for i in range(3)]\n",
    "numbers.sort()\n",
    "print(\"Sorted numbers:\", numbers)\n"
   ]
  },
  {
   "cell_type": "markdown",
   "id": "7038265b-df8d-494a-a493-2b228c4cd979",
   "metadata": {},
   "source": [
    "11.\tWrite a program that prompts the user to input three integers and outputs the largest."
   ]
  },
  {
   "cell_type": "code",
   "execution_count": 37,
   "id": "85022d66-bf37-4183-bec2-d40f975688e2",
   "metadata": {},
   "outputs": [
    {
     "name": "stdin",
     "output_type": "stream",
     "text": [
      "Enter the first number:  0\n",
      "Enter the second number:  4\n",
      "Enter the third number:  3\n"
     ]
    },
    {
     "name": "stdout",
     "output_type": "stream",
     "text": [
      "The largest number is 4.\n"
     ]
    }
   ],
   "source": [
    "# Program to find the largest of three numbers\n",
    "num1 = int(input(\"Enter the first number: \"))\n",
    "num2 = int(input(\"Enter the second number: \"))\n",
    "num3 = int(input(\"Enter the third number: \"))\n",
    "largest = max(num1, num2, num3)\n",
    "print(f\"The largest number is {largest}.\")\n"
   ]
  },
  {
   "cell_type": "markdown",
   "id": "7c9d506e-1639-432b-b700-fe9da8110abd",
   "metadata": {},
   "source": [
    "12.\tWrite a program that prompts the user to input a character and determine the character is vowel or consonant."
   ]
  },
  {
   "cell_type": "code",
   "execution_count": 40,
   "id": "346bdcba-bd68-4c48-8289-d67f0f75a078",
   "metadata": {},
   "outputs": [
    {
     "name": "stdin",
     "output_type": "stream",
     "text": [
      "Enter a character:  1\n"
     ]
    },
    {
     "name": "stdout",
     "output_type": "stream",
     "text": [
      "Invalid input. Please enter an alphabetic character.\n"
     ]
    }
   ],
   "source": [
    "# Program to check if a character is a vowel or consonant\n",
    "char = input(\"Enter a character: \").lower()\n",
    "if char in 'aeiou':\n",
    "    print(f\"{char} is a vowel.\")\n",
    "elif char.isalpha():\n",
    "    print(f\"{char} is a consonant.\")\n",
    "else:\n",
    "    print(\"Invalid input. Please enter an alphabetic character.\")\n"
   ]
  },
  {
   "cell_type": "markdown",
   "id": "44864779-5d27-4787-a62a-b13b2913df0d",
   "metadata": {},
   "source": [
    "13.\tWrite a program that prompts the user to input a year and determine whether the year is a leap year or not.\n",
    "Leap Years are any year that can be evenly divided by 4. A year that is evenly divisible by 100 is a leap year only if it is also evenly divisible by 400. Example:\n",
    "\n",
    "1992\tLeap Year\n",
    "2000\tLeap Year\n",
    "1900\tNOT a Leap Year\n",
    "1995\tNOT a Leap Year\n"
   ]
  },
  {
   "cell_type": "code",
   "execution_count": 43,
   "id": "3e0e2cf0-9492-48b6-8757-4c95218bc0ec",
   "metadata": {},
   "outputs": [
    {
     "name": "stdin",
     "output_type": "stream",
     "text": [
      "Enter a year:  4\n"
     ]
    },
    {
     "name": "stdout",
     "output_type": "stream",
     "text": [
      "4 is a Leap Year.\n"
     ]
    }
   ],
   "source": [
    "# Program to check if a year is a leap year\n",
    "year = int(input(\"Enter a year: \"))\n",
    "if (year % 4 == 0 and year % 100 != 0) or (year % 400 == 0):\n",
    "    print(f\"{year} is a Leap Year.\")\n",
    "else:\n",
    "    print(f\"{year} is NOT a Leap Year.\")\n"
   ]
  },
  {
   "cell_type": "markdown",
   "id": "be1fa985-6bb1-4e4d-b2a8-5c1d551c5ffc",
   "metadata": {},
   "source": [
    "14.\tWrite a program that prompts the user to input number of calls and calculate the monthly telephone bills as per the following rule:\n",
    "Minimum Rs. 200 for up to 100 calls. Plus Rs. 0.60 per call for next 50 calls. Plus Rs. 0.50 per call for next 50 calls.\n",
    "Plus Rs. 0.40 per call for any call beyond 200 calls.\n"
   ]
  },
  {
   "cell_type": "code",
   "execution_count": 46,
   "id": "dad267cf-ce92-4cb9-9403-614bd404b7cd",
   "metadata": {},
   "outputs": [
    {
     "name": "stdin",
     "output_type": "stream",
     "text": [
      "Enter the number of calls:  1\n"
     ]
    },
    {
     "name": "stdout",
     "output_type": "stream",
     "text": [
      "The total telephone bill is Rs. 200.00.\n"
     ]
    }
   ],
   "source": [
    "# Program to calculate monthly telephone bills\n",
    "calls = int(input(\"Enter the number of calls: \"))\n",
    "bill = 200\n",
    "\n",
    "if calls > 100:\n",
    "    if calls <= 150:\n",
    "        bill += (calls - 100) * 0.60\n",
    "    elif calls <= 200:\n",
    "        bill += 50 * 0.60 + (calls - 150) * 0.50\n",
    "    else:\n",
    "        bill += 50 * 0.60 + 50 * 0.50 + (calls - 200) * 0.40\n",
    "\n",
    "print(f\"The total telephone bill is Rs. {bill:.2f}.\")\n"
   ]
  },
  {
   "cell_type": "code",
   "execution_count": null,
   "id": "a1a67eed-f67c-4816-95dd-6a7339c47f10",
   "metadata": {},
   "outputs": [],
   "source": []
  }
 ],
 "metadata": {
  "kernelspec": {
   "display_name": "Python 3 (ipykernel)",
   "language": "python",
   "name": "python3"
  },
  "language_info": {
   "codemirror_mode": {
    "name": "ipython",
    "version": 3
   },
   "file_extension": ".py",
   "mimetype": "text/x-python",
   "name": "python",
   "nbconvert_exporter": "python",
   "pygments_lexer": "ipython3",
   "version": "3.12.7"
  }
 },
 "nbformat": 4,
 "nbformat_minor": 5
}
