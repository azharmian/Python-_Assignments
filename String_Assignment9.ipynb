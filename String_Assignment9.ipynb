{
 "cells": [
  {
   "cell_type": "markdown",
   "id": "d6b75993-1355-41d6-8de5-ee1ae40897f3",
   "metadata": {},
   "source": [
    "1.\tWrite a program that accepts a string from user. Your program should count and display number of vowels in that string."
   ]
  },
  {
   "cell_type": "code",
   "execution_count": 2,
   "id": "50b9246c-7fb8-48ea-b5a4-10a3b2559fd0",
   "metadata": {},
   "outputs": [
    {
     "name": "stdin",
     "output_type": "stream",
     "text": [
      "Enter a string:  3\n"
     ]
    },
    {
     "name": "stdout",
     "output_type": "stream",
     "text": [
      "Number of vowels in the string: 0\n"
     ]
    }
   ],
   "source": [
    "string = input(\"Enter a string: \")\n",
    "vowels = \"aeiouAEIOU\"\n",
    "count = sum(1 for char in string if char in vowels)\n",
    "print(f\"Number of vowels in the string: {count}\")\n"
   ]
  },
  {
   "cell_type": "markdown",
   "id": "def0424b-945d-41d6-acbf-800e425bb166",
   "metadata": {},
   "source": [
    "2.\tWrite a program that reads a string from keyboard and display:\n",
    "*\tThe number of uppercase letters in the string\n",
    "*\tThe number of lowercase letters in the string\n",
    "*\tThe number of digits in the string\n",
    "*\tThe number of whitespace characters in the string\n"
   ]
  },
  {
   "cell_type": "code",
   "execution_count": 5,
   "id": "b4e6bcba-2c04-4cbf-8592-fd1dbac1e87c",
   "metadata": {},
   "outputs": [
    {
     "name": "stdin",
     "output_type": "stream",
     "text": [
      "Enter a string:  2\n"
     ]
    },
    {
     "name": "stdout",
     "output_type": "stream",
     "text": [
      "Uppercase letters: 0\n",
      "Lowercase letters: 0\n",
      "Digits: 1\n",
      "Whitespace characters: 0\n"
     ]
    }
   ],
   "source": [
    "string = input(\"Enter a string: \")\n",
    "uppercase = sum(1 for char in string if char.isupper())\n",
    "lowercase = sum(1 for char in string if char.islower())\n",
    "digits = sum(1 for char in string if char.isdigit())\n",
    "whitespace = sum(1 for char in string if char.isspace())\n",
    "\n",
    "print(f\"Uppercase letters: {uppercase}\")\n",
    "print(f\"Lowercase letters: {lowercase}\")\n",
    "print(f\"Digits: {digits}\")\n",
    "print(f\"Whitespace characters: {whitespace}\")\n"
   ]
  },
  {
   "cell_type": "markdown",
   "id": "9bb0381c-4ca1-4418-968a-7cbbea08a3a3",
   "metadata": {},
   "source": [
    "3.\tWrite a Python program that accepts a string from user. Your program should create and display a new string where the first and last characters have been exchanged.\n",
    "For example if the user enters the string 'HELLO' then new string would be 'OELLH'\n"
   ]
  },
  {
   "cell_type": "code",
   "execution_count": 11,
   "id": "75602fa5-d81a-4a3f-b003-63500da94e46",
   "metadata": {},
   "outputs": [
    {
     "name": "stdin",
     "output_type": "stream",
     "text": [
      "Enter a string:  how are you\n"
     ]
    },
    {
     "name": "stdout",
     "output_type": "stream",
     "text": [
      "New string: uow are yoh\n"
     ]
    }
   ],
   "source": [
    "string = input(\"Enter a string: \")\n",
    "if len(string) > 1:\n",
    "    new_string = string[-1] + string[1:-1] + string[0]\n",
    "else:\n",
    "    new_string = string\n",
    "print(f\"New string: {new_string}\")\n"
   ]
  },
  {
   "cell_type": "markdown",
   "id": "56eed483-c4e9-4fd3-8d4b-ec265bf2d620",
   "metadata": {},
   "source": [
    "4.\tWrite a Python program that accepts a string from user. Your program should create a new string in reverse of first string and display it.\n",
    "For example if the user enters the string 'EXAM' then new string would be 'MAXE'\n"
   ]
  },
  {
   "cell_type": "code",
   "execution_count": 14,
   "id": "01f5ecd7-811e-4005-83e5-a04b6445dd30",
   "metadata": {},
   "outputs": [
    {
     "name": "stdin",
     "output_type": "stream",
     "text": [
      "Enter a string:  how may days are in exams\n"
     ]
    },
    {
     "name": "stdout",
     "output_type": "stream",
     "text": [
      "Reversed string: smaxe ni era syad yam woh\n"
     ]
    }
   ],
   "source": [
    "string = input(\"Enter a string: \")\n",
    "reversed_string = ''.join(string[i] for i in range(len(string)-1, -1, -1))\n",
    "print(f\"Reversed string: {reversed_string}\")\n"
   ]
  },
  {
   "cell_type": "markdown",
   "id": "dcc030a6-539e-43d7-b06a-235c226dec42",
   "metadata": {},
   "source": [
    "5.\tWrite a Python program that accepts a string from user. Your program should create a new string by shifting one position to left.\n",
    "For example if the user enters the string 'examination 2021' then new string would be 'xamination 2021e'\n"
   ]
  },
  {
   "cell_type": "code",
   "execution_count": 18,
   "id": "a3e3026c-bbc0-43bf-9c85-552002537eef",
   "metadata": {},
   "outputs": [
    {
     "name": "stdin",
     "output_type": "stream",
     "text": [
      "Enter a string:  and after exam we will work for jobs\n"
     ]
    },
    {
     "name": "stdout",
     "output_type": "stream",
     "text": [
      "Shifted string: nd after exam we will work for jobsa\n"
     ]
    }
   ],
   "source": [
    "string = input(\"Enter a string: \")\n",
    "if len(string) > 1:\n",
    "    shifted_string = string[1:] + string[0]\n",
    "else:\n",
    "    shifted_string = string\n",
    "print(f\"Shifted string: {shifted_string}\")\n"
   ]
  },
  {
   "cell_type": "markdown",
   "id": "4d6de3f9-6ec5-4c6b-86a4-c3156ea8da1a",
   "metadata": {},
   "source": [
    "6.\tWrite a program that asks the user to input his name and print its initials. Assuming that the user always types first name, middle name and last name and does not include any unnecessary spaces.\n",
    "For example, if the user enters Ajay Kumar Garg the program should display A. K. G. Note:Don't use split() method\n"
   ]
  },
  {
   "cell_type": "code",
   "execution_count": 21,
   "id": "3c9cd812-e3ee-449c-9ada-439aa60bdc5b",
   "metadata": {},
   "outputs": [
    {
     "name": "stdin",
     "output_type": "stream",
     "text": [
      "Enter your full name:  Mian Azhar\n"
     ]
    },
    {
     "name": "stdout",
     "output_type": "stream",
     "text": [
      "Initials: M.I.A.N.A.Z.H.A.R\n"
     ]
    }
   ],
   "source": [
    "name = input(\"Enter your full name: \")\n",
    "initials = \"\"\n",
    "for char in name:\n",
    "    if char.isalpha() and (initials == \"\" or initials[-1] == '.'):\n",
    "        initials += char.upper() + '.'\n",
    "print(f\"Initials: {initials.strip('.')}\")\n"
   ]
  },
  {
   "cell_type": "markdown",
   "id": "92b60d12-ac8b-45e9-8f6d-b062dbca4dcd",
   "metadata": {},
   "source": [
    "7.\tA palindrome is a string that reads the same backward as forward. For example, the words dad, madam and radar are all palindromes. Write a programs that determines whether the string is a palindrome.\n",
    "Note: do not use reverse() method\n"
   ]
  },
  {
   "cell_type": "code",
   "execution_count": 24,
   "id": "6c6a16cb-a167-4347-988d-af631fb00586",
   "metadata": {},
   "outputs": [
    {
     "name": "stdin",
     "output_type": "stream",
     "text": [
      "Enter a string:  which place you want to go\n"
     ]
    },
    {
     "name": "stdout",
     "output_type": "stream",
     "text": [
      "The string is not a palindrome.\n"
     ]
    }
   ],
   "source": [
    "string = input(\"Enter a string: \")\n",
    "is_palindrome = True\n",
    "for i in range(len(string) // 2):\n",
    "    if string[i] != string[-(i + 1)]:\n",
    "        is_palindrome = False\n",
    "        break\n",
    "if is_palindrome:\n",
    "    print(\"The string is a palindrome.\")\n",
    "else:\n",
    "    print(\"The string is not a palindrome.\")\n"
   ]
  },
  {
   "cell_type": "markdown",
   "id": "2bacf6cf-ba4c-44e5-9355-9ec2b6cb0bcd",
   "metadata": {},
   "source": [
    "8.\tWrite a program that display following output:\n",
    "SHIFT HIFTS IFTSH FTSHI TSHIF SHIFT\n"
   ]
  },
  {
   "cell_type": "code",
   "execution_count": 27,
   "id": "b75cc2d5-a70f-4cb7-a07e-fbecfd97f65c",
   "metadata": {},
   "outputs": [
    {
     "name": "stdout",
     "output_type": "stream",
     "text": [
      "SHIFT HIFTS IFTSH FTSHI TSHIF "
     ]
    }
   ],
   "source": [
    "string = \"SHIFT\"\n",
    "for i in range(len(string)):\n",
    "    print(string[i:] + string[:i], end=\" \")\n"
   ]
  },
  {
   "cell_type": "markdown",
   "id": "27060763-fd7c-4ef4-902f-269297d8e801",
   "metadata": {},
   "source": [
    "9.\tWrite a program in python that accepts a string to setup a passwords. Your entered password must meet the following requirements:\n",
    " \n",
    "The password must be at least eight characters long. It must contain at least one uppercase letter.\n",
    "It must contain at least one lowercase letter. It must contain at least one numeric digit.\n",
    "Your program should should perform this validation.\n"
   ]
  },
  {
   "cell_type": "code",
   "execution_count": 30,
   "id": "d27ac612-5a92-4032-82f6-2de40cb1135e",
   "metadata": {},
   "outputs": [
    {
     "name": "stdin",
     "output_type": "stream",
     "text": [
      "Enter your password:  four1111\n"
     ]
    },
    {
     "name": "stdout",
     "output_type": "stream",
     "text": [
      "Password is invalid. Ensure it meets all requirements.\n"
     ]
    }
   ],
   "source": [
    "password = input(\"Enter your password: \")\n",
    "if (\n",
    "    len(password) >= 8 and\n",
    "    any(char.isupper() for char in password) and\n",
    "    any(char.islower() for char in password) and\n",
    "    any(char.isdigit() for char in password)\n",
    "):\n",
    "    print(\"Password is valid.\")\n",
    "else:\n",
    "    print(\"Password is invalid. Ensure it meets all requirements.\")\n"
   ]
  },
  {
   "cell_type": "code",
   "execution_count": null,
   "id": "68427a54-1e6f-4ca5-b31c-c2f022022a14",
   "metadata": {},
   "outputs": [],
   "source": []
  }
 ],
 "metadata": {
  "kernelspec": {
   "display_name": "Python 3 (ipykernel)",
   "language": "python",
   "name": "python3"
  },
  "language_info": {
   "codemirror_mode": {
    "name": "ipython",
    "version": 3
   },
   "file_extension": ".py",
   "mimetype": "text/x-python",
   "name": "python",
   "nbconvert_exporter": "python",
   "pygments_lexer": "ipython3",
   "version": "3.12.7"
  }
 },
 "nbformat": 4,
 "nbformat_minor": 5
}
