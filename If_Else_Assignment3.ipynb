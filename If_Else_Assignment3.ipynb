{
 "cells": [
  {
   "cell_type": "markdown",
   "id": "9c5b020a-0e44-4111-a401-2eddcdf4852c",
   "metadata": {},
   "source": [
    "# A-\tDiscounts and Pricing\n",
    "1.\tCheck Discount Eligibility\n",
    "Write a program to check if a customer is eligible for a discount. If the total purchase is more than $100, apply a 10% discount and display the final price. Otherwise, display the total price as it is."
   ]
  },
  {
   "cell_type": "code",
   "execution_count": 7,
   "id": "0e4c5ade-9960-4026-af61-ae4abefbb211",
   "metadata": {},
   "outputs": [],
   "source": [
    "def check_discount(total_purchase):\n",
    "    if total_purchase > 100:\n",
    "        discount = total_purchase * 0.10\n",
    "        final_price = total_purchase - discount\n",
    "        return final_price\n",
    "    else:\n",
    "        return total_purchase"
   ]
  },
  {
   "cell_type": "markdown",
   "id": "48b14a97-2e35-4eb1-abae-feb9ed08e223",
   "metadata": {},
   "source": [
    "2.\tCalculate Bulk Discount\n",
    "If a customer buys more than 5 items, apply a 15% discount on the total price. Otherwise, no discount is applied. Display the total price.\n"
   ]
  },
  {
   "cell_type": "code",
   "execution_count": 12,
   "id": "ba8fe06d-7736-41c1-aac0-5c1a70f49000",
   "metadata": {},
   "outputs": [],
   "source": [
    "def calculate_bulk_discount(total_items, total_price):\n",
    "    if total_items > 5:\n",
    "        discount = total_price * 0.15\n",
    "        total_price -= discount\n",
    "    return total_price\n"
   ]
  },
  {
   "cell_type": "markdown",
   "id": "94bad204-bdc4-4e4c-a620-5e79ac6ce000",
   "metadata": {},
   "source": [
    "3.\tMembership Discount\n",
    "Check if the customer is a member (is_member = True). Members get a 20% discount; non-members get a 5% discount. Calculate and print the discounted price.\n"
   ]
  },
  {
   "cell_type": "code",
   "execution_count": 16,
   "id": "014e6d1b-b9ca-4ce5-8d80-38d98fa24bbe",
   "metadata": {},
   "outputs": [],
   "source": [
    "def membership_discount(is_member, total_price):\n",
    "    if is_member:\n",
    "        discount = total_price * 0.20\n",
    "    else:\n",
    "        discount = total_price * 0.05\n",
    "    final_price = total_price - discount\n",
    "    return final_price\n"
   ]
  },
  {
   "cell_type": "markdown",
   "id": "85af23bf-045f-4ec2-bf13-b35942972d79",
   "metadata": {},
   "source": [
    "4.\tSeasonal Sale\n",
    "If today is a holiday (is_holiday = True), apply a 25% discount; otherwise, apply a 10% discount. Calculate the price after discount.\n",
    "\n"
   ]
  },
  {
   "cell_type": "code",
   "execution_count": 19,
   "id": "8b72324d-102e-4f5f-ade4-a6061ae8f701",
   "metadata": {},
   "outputs": [],
   "source": [
    "def seasonal_sale(is_holiday, total_price):\n",
    "    if is_holiday:\n",
    "        discount = total_price * 0.25\n",
    "    else:\n",
    "        discount = total_price * 0.10\n",
    "    final_price = total_price - discount\n",
    "    return final_price\n"
   ]
  },
  {
   "cell_type": "markdown",
   "id": "894cbb96-6cac-4f26-9916-e90c1cdc3f52",
   "metadata": {},
   "source": [
    "5.\tBuy-One-Get-One-Free\n",
    "If a customer buys an even number of items, they get half of them for free. Otherwise, they pay for all. Calculate the number of items the customer has to pay for.\n"
   ]
  },
  {
   "cell_type": "code",
   "execution_count": 22,
   "id": "2de5404e-6aa1-4e11-9cb3-941244369583",
   "metadata": {},
   "outputs": [],
   "source": [
    "def buy_one_get_one_free(num_items):\n",
    "    if num_items % 2 == 0:\n",
    "        items_to_pay_for = num_items // 2\n",
    "    else:\n",
    "        items_to_pay_for = num_items\n",
    "    return items_to_pay_for\n"
   ]
  },
  {
   "cell_type": "markdown",
   "id": "8b3359b5-3ecc-4339-88f2-0aee988f02f6",
   "metadata": {},
   "source": [
    "# B-\tTax Calculations\n",
    "6.\tSales Tax\n",
    "If the price of an item is greater than $500, apply a luxury tax of 15%. Otherwise, apply a standard tax of 8%. Display the total price after tax.\n"
   ]
  },
  {
   "cell_type": "code",
   "execution_count": 25,
   "id": "f73fe6aa-575f-47e1-bfe9-1fa5c178cbde",
   "metadata": {},
   "outputs": [],
   "source": [
    "def sales_tax(price):\n",
    "    if price > 500:\n",
    "        tax = price * 0.15\n",
    "    else:\n",
    "        tax = price * 0.08\n",
    "    total_price = price + tax\n",
    "    return total_price\n"
   ]
  },
  {
   "cell_type": "markdown",
   "id": "5968dc42-565a-4a4e-a2a4-b1e981cadfdd",
   "metadata": {},
   "source": [
    "7.\tIncome Tax\n",
    "If a person's annual income is above $50,000, they pay 20% tax. Otherwise, they pay 10%. Calculate and display the tax amount.\n"
   ]
  },
  {
   "cell_type": "code",
   "execution_count": 28,
   "id": "04da071f-e8ad-43f9-b3a5-b7e7499d6d54",
   "metadata": {},
   "outputs": [],
   "source": [
    "def income_tax(annual_income):\n",
    "    if annual_income > 50000:\n",
    "        tax = annual_income * 0.20\n",
    "    else:\n",
    "        tax = annual_income * 0.10\n",
    "    return tax\n"
   ]
  },
  {
   "cell_type": "markdown",
   "id": "1a028876-2d0d-43a3-aa4c-7332ec3a92c9",
   "metadata": {},
   "source": [
    "8.\tTax Bracket\n",
    "Write a program to categorize a person into tax brackets:\n",
    "\tIncome < $30,000: \"Low Tax\"\n",
    "\t$30,000 ≤ Income < $100,000: \"Medium Tax\"\n",
    "\tIncome ≥ $100,000: \"High Tax\"\n"
   ]
  },
  {
   "cell_type": "code",
   "execution_count": 33,
   "id": "b15933d9-9a6e-403e-8711-056877493967",
   "metadata": {},
   "outputs": [],
   "source": [
    "def tax_bracket(income):\n",
    "    if income < 30000:\n",
    "        return \"Low Tax\"\n",
    "    elif 30000 <= income < 100000:\n",
    "        return \"Medium Tax\"\n",
    "    else:\n",
    "        return \"High Tax\"\n"
   ]
  },
  {
   "cell_type": "markdown",
   "id": "5149c8c0-289f-4f11-8e4f-ceda5c35ef55",
   "metadata": {},
   "source": [
    "9.\tVAT Calculation\n",
    "If the item is marked as essential (is_essential = True), apply a VAT of 5%. Otherwise, apply a VAT of 12%. Display the final price.\n"
   ]
  },
  {
   "cell_type": "code",
   "execution_count": 36,
   "id": "421cfe02-3e67-4b63-a815-d2a4c1898128",
   "metadata": {},
   "outputs": [],
   "source": [
    "def vat_calculation(price, is_essential):\n",
    "    if is_essential:\n",
    "        vat = price * 0.05\n",
    "    else:\n",
    "        vat = price * 0.12\n",
    "    final_price = price + vat\n",
    "    return final_price\n"
   ]
  },
  {
   "cell_type": "markdown",
   "id": "d3f3c97b-a5c6-426f-8aac-0c34e45798b8",
   "metadata": {},
   "source": [
    "10.\tTax-Free Day\n",
    "If today is a tax-free day (tax_free = True), display the original price. Otherwise, add a 7% tax.\n"
   ]
  },
  {
   "cell_type": "code",
   "execution_count": 39,
   "id": "b9b11efb-4166-4a66-ac20-8a86701eaed4",
   "metadata": {},
   "outputs": [],
   "source": [
    "def tax_free_day(price, tax_free):\n",
    "    if tax_free:\n",
    "        return price\n",
    "    else:\n",
    "        tax = price * 0.07\n",
    "        return price + tax\n"
   ]
  },
  {
   "cell_type": "markdown",
   "id": "82d85a89-090a-4e65-ae77-50e60258e9f0",
   "metadata": {},
   "source": [
    "# C-\tShopping and Billing\n",
    "11.\tFree Shipping\n",
    "If the total purchase amount is more than $50, offer free shipping; otherwise, charge $5 for shipping. Display the total amount including shipping.\n"
   ]
  },
  {
   "cell_type": "code",
   "execution_count": 42,
   "id": "7c6ad3f3-b7df-4202-a9b5-d48e3348751e",
   "metadata": {},
   "outputs": [],
   "source": [
    "def free_shipping(total_purchase):\n",
    "    if total_purchase > 50:\n",
    "        return total_purchase\n",
    "    else:\n",
    "        return total_purchase + 5\n"
   ]
  },
  {
   "cell_type": "markdown",
   "id": "37083703-6549-4bb7-bedd-1cc53cd307a0",
   "metadata": {},
   "source": [
    "12.\tDiscount Code\n",
    "If a customer enters the correct discount code (DISCOUNT10), apply a 10% discount. Otherwise, charge the full amount.\n"
   ]
  },
  {
   "cell_type": "code",
   "execution_count": 46,
   "id": "44401576-01c0-480a-a11a-f73bfda0f401",
   "metadata": {},
   "outputs": [],
   "source": [
    "def discount_code(code, total_price):\n",
    "    if code == \"DISCOUNT10\":\n",
    "        return total_price * 0.90\n",
    "    else:\n",
    "        return total_price\n"
   ]
  },
  {
   "cell_type": "markdown",
   "id": "776ee46d-12f6-4705-b7d2-744952371a18",
   "metadata": {},
   "source": [
    "13.\tTiered Discounts\n",
    "Apply discounts based on the total price:\n",
    "\t$0–$50: No discount.\n",
    "\t$50–$100: 10% discount.\n",
    "\tOver $100: 20% discount.\n"
   ]
  },
  {
   "cell_type": "code",
   "execution_count": 49,
   "id": "0d82539f-d00b-4d88-aac4-5829c19eefc8",
   "metadata": {},
   "outputs": [],
   "source": [
    "def tiered_discounts(total_price):\n",
    "    if total_price <= 50:\n",
    "        return total_price\n",
    "    elif 50 < total_price <= 100:\n",
    "        return total_price * 0.90\n",
    "    else:\n",
    "        return total_price * 0.80\n"
   ]
  },
  {
   "cell_type": "markdown",
   "id": "5ba7b345-4878-4b95-8906-078f2b770f80",
   "metadata": {},
   "source": [
    "14.\tMinimum Purchase Requirement\n",
    "If the total amount is less than $20, display a message: \"Minimum purchase of $20 is required.\" Otherwise, display the total amount."
   ]
  },
  {
   "cell_type": "code",
   "execution_count": 52,
   "id": "624739b0-a86c-4dc7-9a54-03469589e497",
   "metadata": {},
   "outputs": [],
   "source": [
    "def minimum_purchase(total_amount):\n",
    "    if total_amount < 20:\n",
    "        return \"Minimum purchase of $20 is required.\"\n",
    "    else:\n",
    "        return total_amount\n"
   ]
  },
  {
   "cell_type": "markdown",
   "id": "4279fd1b-2ef5-497d-81f1-21b44358bcd4",
   "metadata": {},
   "source": [
    "15.\tLoyalty Points\n",
    "If a customer is a loyal member (is_loyal = True), they earn double loyalty points for their purchase. Otherwise, they earn standard points.\n"
   ]
  },
  {
   "cell_type": "code",
   "execution_count": 55,
   "id": "0eb0c3a1-6076-4f06-a2cd-b35dd952d0d2",
   "metadata": {},
   "outputs": [],
   "source": [
    "def loyalty_points(is_loyal, purchase_amount):\n",
    "    if is_loyal:\n",
    "        return purchase_amount * 2\n",
    "    else:\n",
    "        return purchase_amount\n"
   ]
  },
  {
   "cell_type": "markdown",
   "id": "2c6b923f-1f83-4276-a453-f705314adeb8",
   "metadata": {},
   "source": [
    "# D-\tTravel and Tickets\n",
    "\n",
    "16.\tTravel Discount\n",
    "If a person is traveling more than 500 miles, offer a 20% discount on ticket price. Otherwise, charge the full amount.\n"
   ]
  },
  {
   "cell_type": "code",
   "execution_count": 58,
   "id": "4e138e70-27d2-45ea-9dd7-3ae040709388",
   "metadata": {},
   "outputs": [],
   "source": [
    "def travel_discount(miles, ticket_price):\n",
    "    if miles > 500:\n",
    "        return ticket_price * 0.80\n",
    "    else:\n",
    "        return ticket_price\n"
   ]
  },
  {
   "cell_type": "markdown",
   "id": "b866bcdc-20db-43c3-827b-e506f0cc8cfc",
   "metadata": {},
   "source": [
    "17.\tChild or Senior Discount\n",
    "If a passenger is under 12 or over 60 years old, apply a 15% discount on the ticket price. Otherwise, charge the full price.\n"
   ]
  },
  {
   "cell_type": "code",
   "execution_count": 61,
   "id": "b382997e-82a3-4f87-abb1-88ed39286045",
   "metadata": {},
   "outputs": [],
   "source": [
    "def child_or_senior_discount(age, ticket_price):\n",
    "    if age < 12 or age > 60:\n",
    "        return ticket_price * 0.85\n",
    "    else:\n",
    "        return ticket_price\n"
   ]
  },
  {
   "cell_type": "markdown",
   "id": "9ad7f49c-fe6f-485b-8295-b6fe471c407e",
   "metadata": {},
   "source": [
    "18.\tTicket Type Pricing\n",
    "If the ticket is for a weekend (is_weekend = True), add a 10% surcharge. Otherwise, charge the standard price.\n",
    "\n"
   ]
  },
  {
   "cell_type": "code",
   "execution_count": 64,
   "id": "edf82e71-d29f-48f4-ac8f-72ec40cd0e0c",
   "metadata": {},
   "outputs": [],
   "source": [
    "def ticket_type_pricing(is_weekend, ticket_price):\n",
    "    if is_weekend:\n",
    "        return ticket_price * 1.10\n",
    "    else:\n",
    "        return ticket_price"
   ]
  },
  {
   "cell_type": "markdown",
   "id": "9c99b776-8927-4067-ba82-4883e200ce98",
   "metadata": {},
   "source": [
    "19.\tBaggage Fee\n",
    "If the total baggage weight is over 20kg, charge $10 per extra kilogram. Otherwise, no extra fee.\n"
   ]
  },
  {
   "cell_type": "code",
   "execution_count": 67,
   "id": "3a8d0290-a86e-4162-87ea-4335e04ad37b",
   "metadata": {},
   "outputs": [],
   "source": [
    "def baggage_fee(weight):\n",
    "    if weight > 20:\n",
    "        return (weight - 20) * 10\n",
    "    else:\n",
    "        return 0\n"
   ]
  },
  {
   "cell_type": "markdown",
   "id": "6f97dd93-39cb-4422-ac2e-50d4bb0f584b",
   "metadata": {},
   "source": [
    "20.\tEarly Bird Discount\n",
    "If a ticket is booked more than 30 days in advance, apply a 10% discount. Otherwise, charge the full price.\n"
   ]
  },
  {
   "cell_type": "code",
   "execution_count": 70,
   "id": "f04950b7-46a4-4162-8925-8ce13a57fdce",
   "metadata": {},
   "outputs": [],
   "source": [
    "def early_bird_discount(days_in_advance, ticket_price):\n",
    "    if days_in_advance > 30:\n",
    "        return ticket_price * 0.90\n",
    "    else:\n",
    "        return ticket_price\n"
   ]
  },
  {
   "cell_type": "markdown",
   "id": "385de5f9-ae70-454c-b3e3-9c06d2cb1333",
   "metadata": {},
   "source": [
    "E-\tGrades and Performance\n",
    "\n",
    "21.\tPass or Fail\n",
    "If a student scores 40 or more, print \"Pass\". Otherwise, print \"Fail\".\n"
   ]
  },
  {
   "cell_type": "code",
   "execution_count": 73,
   "id": "0557a92e-64a3-44de-b649-df0c5ed3036b",
   "metadata": {},
   "outputs": [],
   "source": [
    "def pass_or_fail(score):\n",
    "    if score >= 40:\n",
    "        return \"Pass\"\n",
    "    else:\n",
    "        return \"Fail\"\n"
   ]
  },
  {
   "cell_type": "markdown",
   "id": "e40fbfce-da0e-40b2-877d-98dc6467d419",
   "metadata": {},
   "source": [
    "22.\tGrade Assignment\n",
    "Based on a student's score, assign grades:\n",
    "\t90 and above: \"A\"\n",
    "\t75–89: \"B\"\n",
    "\t50–74: \"C\"\n",
    "\tBelow 50: \"F\"\n"
   ]
  },
  {
   "cell_type": "code",
   "execution_count": 76,
   "id": "aef57f4c-a45a-40a3-8009-a01c7c20589e",
   "metadata": {},
   "outputs": [],
   "source": [
    "def grade_assignment(score):\n",
    "    if score >= 90:\n",
    "        return \"A\"\n",
    "    elif score >= 75:\n",
    "        return \"B\"\n",
    "    elif score >= 50:\n",
    "        return \"C\"\n",
    "    else:\n",
    "        return \"F\"\n"
   ]
  },
  {
   "cell_type": "markdown",
   "id": "1f4f6a23-e928-4e3d-8b7f-525b50196469",
   "metadata": {},
   "source": [
    "23.\tBonus Marks\n",
    "If a student completes all assignments, add 5 bonus marks to their score. Otherwise, no bonus marks.\n"
   ]
  },
  {
   "cell_type": "code",
   "execution_count": 79,
   "id": "fd0a8647-d35c-4d5f-9cb9-9155d511bbb2",
   "metadata": {},
   "outputs": [],
   "source": [
    "def bonus_marks(completed_assignments, score):\n",
    "    if completed_assignments:\n",
    "        return score + 5\n",
    "    else:\n",
    "        return score\n"
   ]
  },
  {
   "cell_type": "markdown",
   "id": "4b35e5c7-91d6-4e07-bfac-826623862e12",
   "metadata": {},
   "source": [
    "24.\tAttendance Eligibility\n",
    "If a student's attendance is 75% or more, they are eligible to take the exam. Otherwise, they are not.\n"
   ]
  },
  {
   "cell_type": "code",
   "execution_count": 82,
   "id": "87c4fd66-f9d1-4644-867d-73ae7f219ad8",
   "metadata": {},
   "outputs": [],
   "source": [
    "def attendance_eligibility(attendance_percentage):\n",
    "    if attendance_percentage >= 75:\n",
    "        return \"Eligible\"\n",
    "    else:\n",
    "        return \"Not Eligible\"\n"
   ]
  },
  {
   "cell_type": "markdown",
   "id": "dcb329eb-1ee6-4521-b99a-ecaaeee2fccd",
   "metadata": {},
   "source": [
    "\n",
    "25.\tScholarship Eligibility\n",
    "If a student's grade is \"A\" and their annual family income is below $30,000, they are eligible for a scholarship. Otherwise, they are not.\n"
   ]
  },
  {
   "cell_type": "code",
   "execution_count": 85,
   "id": "2ddf6754-b3d2-4d0d-8471-f90b28da3c0d",
   "metadata": {},
   "outputs": [],
   "source": [
    "def scholarship_eligibility(grade, family_income):\n",
    "    if grade == \"A\" and family_income < 30000:\n",
    "        return \"Eligible for Scholarship\"\n",
    "    else:\n",
    "        return \"Not Eligible\"\n"
   ]
  },
  {
   "cell_type": "code",
   "execution_count": null,
   "id": "c6779462-26f6-433d-b655-bd3f625111ba",
   "metadata": {},
   "outputs": [],
   "source": []
  }
 ],
 "metadata": {
  "kernelspec": {
   "display_name": "Python 3 (ipykernel)",
   "language": "python",
   "name": "python3"
  },
  "language_info": {
   "codemirror_mode": {
    "name": "ipython",
    "version": 3
   },
   "file_extension": ".py",
   "mimetype": "text/x-python",
   "name": "python",
   "nbconvert_exporter": "python",
   "pygments_lexer": "ipython3",
   "version": "3.12.7"
  }
 },
 "nbformat": 4,
 "nbformat_minor": 5
}
