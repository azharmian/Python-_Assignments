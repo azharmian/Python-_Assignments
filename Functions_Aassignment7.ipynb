{
 "cells": [
  {
   "cell_type": "markdown",
   "id": "8388d499-335b-46b8-a69a-8ab3c21bb283",
   "metadata": {},
   "source": [
    "1.\tWrite a Python function to find the maximum of three numbers."
   ]
  },
  {
   "cell_type": "code",
   "execution_count": 2,
   "id": "093dceb3-8321-4953-9057-794fffe69f15",
   "metadata": {},
   "outputs": [
    {
     "name": "stdout",
     "output_type": "stream",
     "text": [
      "6\n"
     ]
    }
   ],
   "source": [
    "def max_of_three(a, b, c):\n",
    "    return max(a, b, c)\n",
    "\n",
    "print(max_of_three(3, 6, -5)) \n"
   ]
  },
  {
   "cell_type": "markdown",
   "id": "279012f8-9b2b-442c-b1d4-f4a6940e3560",
   "metadata": {},
   "source": [
    "2.\tWrite a Python function to sum all the numbers in a list.\n",
    "Sample List : (8, 2, 3, 0, 7)\n",
    "Expected Output : 20\n"
   ]
  },
  {
   "cell_type": "code",
   "execution_count": 5,
   "id": "a04dfca6-d10b-4ae2-918f-77f3f90239f4",
   "metadata": {},
   "outputs": [
    {
     "name": "stdout",
     "output_type": "stream",
     "text": [
      "20\n"
     ]
    }
   ],
   "source": [
    "def sum_of_list(numbers):\n",
    "    return sum(numbers)\n",
    "\n",
    "# Example usage\n",
    "print(sum_of_list([8, 2, 3, 0, 7]))  # Output: 20\n"
   ]
  },
  {
   "cell_type": "markdown",
   "id": "75c49e85-ed35-48f9-8d96-5c3dbdb762bf",
   "metadata": {},
   "source": [
    "3.\tWrite a Python function to multiply all the numbers in a list.\n",
    "Sample List : (8, 2, 3, -1, 7)\n",
    "Expected Output : -336\n"
   ]
  },
  {
   "cell_type": "markdown",
   "id": "117c41b9-26d3-446e-9d5c-1924511beec5",
   "metadata": {},
   "source": [
    "from functools import reduce\n",
    "\n",
    "def multiply_list(numbers):\n",
    "    return reduce(lambda x, y: x * y, numbers)\n",
    "\n",
    "# Example usage\n",
    "print(multiply_list([8, 2, 3, -1, 7]))  # Output: -336\n"
   ]
  },
  {
   "cell_type": "code",
   "execution_count": 9,
   "id": "8d90ff29-dee3-47b0-a24f-ee81947c2278",
   "metadata": {},
   "outputs": [
    {
     "name": "stdout",
     "output_type": "stream",
     "text": [
      "-336\n"
     ]
    }
   ],
   "source": [
    "from functools import reduce\n",
    "\n",
    "def multiply_list(numbers):\n",
    "    return reduce(lambda x, y: x * y, numbers)\n",
    "\n",
    "# Example usage\n",
    "print(multiply_list([8, 2, 3, -1, 7]))  # Output: -336\n"
   ]
  },
  {
   "cell_type": "markdown",
   "id": "534e3f6d-4fc1-494b-8eba-03315090816e",
   "metadata": {},
   "source": [
    "4.\tWrite a Python program to reverse a string.\n",
    "Sample String : \"1234abcd\"\n",
    "Expected Output : \"dcba4321\"\n"
   ]
  },
  {
   "cell_type": "code",
   "execution_count": 12,
   "id": "8872738a-16bd-475d-8df5-0d482097c498",
   "metadata": {},
   "outputs": [
    {
     "name": "stdout",
     "output_type": "stream",
     "text": [
      "dcba4321\n"
     ]
    }
   ],
   "source": [
    "def reverse_string(s):\n",
    "    return s[::-1]\n",
    "\n",
    "# Example usage\n",
    "print(reverse_string(\"1234abcd\"))  # Output: \"dcba4321\"\n"
   ]
  },
  {
   "cell_type": "markdown",
   "id": "29907753-496f-4d76-8e35-d8a5d4a2a09e",
   "metadata": {},
   "source": [
    "5.\tWrite a Python function to calculate the factorial of a number (a non-negative integer). The function accepts the number as an argument.\n",
    "\n"
   ]
  },
  {
   "cell_type": "code",
   "execution_count": 15,
   "id": "efc4f15a-59bb-4148-89db-7c6e62e71f57",
   "metadata": {},
   "outputs": [
    {
     "name": "stdout",
     "output_type": "stream",
     "text": [
      "120\n"
     ]
    }
   ],
   "source": [
    "def factorial(n):\n",
    "    if n == 0 or n == 1:\n",
    "        return 1\n",
    "    return n * factorial(n - 1)\n",
    "\n",
    "# Example usage\n",
    "print(factorial(5))  # Output: 120\n"
   ]
  },
  {
   "cell_type": "markdown",
   "id": "cc8759c9-7d33-4247-a1a5-3229e22af010",
   "metadata": {},
   "source": [
    "6.\tWrite a Python function to check whether a number falls within a given range."
   ]
  },
  {
   "cell_type": "code",
   "execution_count": 18,
   "id": "2788625e-ee50-4d7f-8f35-bc9a8db3176f",
   "metadata": {},
   "outputs": [
    {
     "name": "stdout",
     "output_type": "stream",
     "text": [
      "True\n"
     ]
    }
   ],
   "source": [
    "def is_in_range(n, start, end):\n",
    "    return start <= n <= end\n",
    "\n",
    "# Example usage\n",
    "print(is_in_range(5, 1, 10))  # Output: True\n"
   ]
  },
  {
   "cell_type": "markdown",
   "id": "4df51028-0422-4e7b-8e0b-e1e80621c895",
   "metadata": {},
   "source": [
    "7.\tWrite a Python function that accepts a string and counts the number of upper and lower case letters.\n",
    "Sample String : 'The quick Brow Fox'\n",
    "Expected Output :\n",
    "No. of Upper case characters : 3 No. of Lower case Characters : 12\n"
   ]
  },
  {
   "cell_type": "code",
   "execution_count": 21,
   "id": "9907cb0c-4706-4323-8460-ed606b629e51",
   "metadata": {},
   "outputs": [
    {
     "name": "stdout",
     "output_type": "stream",
     "text": [
      "No. of Upper case characters : 3\n",
      "No. of Lower case Characters : 12\n"
     ]
    }
   ],
   "source": [
    "def count_case(s):\n",
    "    upper = sum(1 for c in s if c.isupper())\n",
    "    lower = sum(1 for c in s if c.islower())\n",
    "    return upper, lower\n",
    "\n",
    "# Example usage\n",
    "upper, lower = count_case(\"The quick Brow Fox\")\n",
    "print(f\"No. of Upper case characters : {upper}\")\n",
    "print(f\"No. of Lower case Characters : {lower}\")\n"
   ]
  },
  {
   "cell_type": "markdown",
   "id": "31575408-8875-4d92-80cd-ba2570e458b6",
   "metadata": {},
   "source": [
    "8.\tWrite a Python function that takes a list and returns a new list with distinct elements from the first list.\n",
    "Sample List : [1,2,3,3,3,3,4,5]\n",
    "Unique List : [1, 2, 3, 4, 5]\n"
   ]
  },
  {
   "cell_type": "code",
   "execution_count": 26,
   "id": "be1f0907-eafc-444a-b1e2-7c0fc9554948",
   "metadata": {},
   "outputs": [
    {
     "name": "stdout",
     "output_type": "stream",
     "text": [
      "[1, 2, 3, 4, 5]\n"
     ]
    }
   ],
   "source": [
    "def unique_elements(lst):\n",
    "    return list(set(lst))\n",
    "\n",
    "# Example usage\n",
    "print(unique_elements([1, 2, 3, 3, 3, 3, 4, 5]))  # Output: [1, 2, 3, 4, 5]\n"
   ]
  },
  {
   "cell_type": "markdown",
   "id": "d382ea62-7a5b-43e4-9950-7d1e148b0d6e",
   "metadata": {},
   "source": [
    "9.\tWrite a Python function that takes a number as a parameter and checks whether the number is prime or not.\n",
    "Note : A prime number (or a prime) is a natural number greater than 1 and that has no positive divisors other than 1 and itself.\n"
   ]
  },
  {
   "cell_type": "code",
   "execution_count": 29,
   "id": "11cc5625-9121-48ed-bf8d-a769dd039546",
   "metadata": {},
   "outputs": [
    {
     "name": "stdout",
     "output_type": "stream",
     "text": [
      "True\n"
     ]
    }
   ],
   "source": [
    "def is_prime(n):\n",
    "    if n <= 1:\n",
    "        return False\n",
    "    for i in range(2, int(n**0.5) + 1):\n",
    "        if n % i == 0:\n",
    "            return False\n",
    "    return True\n",
    "\n",
    "# Example usage\n",
    "print(is_prime(7))  # Output: True\n"
   ]
  },
  {
   "cell_type": "markdown",
   "id": "b2192e7f-5b0d-4707-bda0-59b080251f33",
   "metadata": {},
   "source": [
    "10.\tWrite a Python program to print the even numbers from a given list.\n",
    "Sample List : [1, 2, 3, 4, 5, 6, 7, 8, 9]\n",
    "Expected Result : [2, 4, 6, 8]\n"
   ]
  },
  {
   "cell_type": "code",
   "execution_count": 32,
   "id": "c61dedb8-17ef-4af6-bf30-ad085c48164a",
   "metadata": {},
   "outputs": [
    {
     "name": "stdout",
     "output_type": "stream",
     "text": [
      "[2, 4, 6, 8]\n"
     ]
    }
   ],
   "source": [
    "def even_numbers(lst):\n",
    "    return [x for x in lst if x % 2 == 0]\n",
    "\n",
    "# Example usage\n",
    "print(even_numbers([1, 2, 3, 4, 5, 6, 7, 8, 9]))  # Output: [2, 4, 6, 8]\n"
   ]
  },
  {
   "cell_type": "markdown",
   "id": "e0184023-e8ed-4a51-9f62-30cf650a8f8b",
   "metadata": {},
   "source": [
    "11.\tWrite a Python function to check whether a number is \"Perfect\" or not. According to Wikipedia : In number theory, a perfect number is a positive integer that is equal to the sum of its proper positive divisors, that is, the sum of its positive divisors excluding the number itself (also known as its aliquot sum). Equivalently, a perfect number is a number that is half the sum of all of its positive divisors (including itself).\n",
    "Example : The first perfect number is 6, because 1, 2, and 3 are its proper positive divisors, and 1 + 2 + 3 = 6. Equivalently, the number 6 is equal to half the sum of all its positive divisors: ( 1 + 2 + 3 + 6 ) / 2 = 6. The next perfect number is 28 = 1 +\n",
    "2 + 4 + 7 + 14. This is followed by the perfect numbers 496 and 8128.\n"
   ]
  },
  {
   "cell_type": "code",
   "execution_count": 35,
   "id": "cbe85140-045f-4186-a8f8-6dcc0f3a921f",
   "metadata": {},
   "outputs": [
    {
     "name": "stdout",
     "output_type": "stream",
     "text": [
      "True\n"
     ]
    }
   ],
   "source": [
    "def is_perfect_number(n):\n",
    "    divisors = [i for i in range(1, n) if n % i == 0]\n",
    "    return sum(divisors) == n\n",
    "\n",
    "# Example usage\n",
    "print(is_perfect_number(6))  # Output: True\n"
   ]
  },
  {
   "cell_type": "markdown",
   "id": "db71a5eb-2a42-4cfe-ae76-be73ff3ae916",
   "metadata": {},
   "source": [
    "12.\tWrite a Python function that checks whether a passed string is a palindrome or not.\n",
    "Note: A palindrome is a word, phrase, or sequence that reads the same backward as forward, e.g., madam or nurses run.\n"
   ]
  },
  {
   "cell_type": "code",
   "execution_count": 38,
   "id": "128c8596-df4c-4879-bc2f-583104385a68",
   "metadata": {},
   "outputs": [
    {
     "name": "stdout",
     "output_type": "stream",
     "text": [
      "True\n",
      "True\n"
     ]
    }
   ],
   "source": [
    "def is_palindrome(s):\n",
    "    s = s.replace(\" \", \"\").lower()\n",
    "    return s == s[::-1]\n",
    "\n",
    "# Example usage\n",
    "print(is_palindrome(\"madam\"))  # Output: True\n",
    "print(is_palindrome(\"nurses run\"))  # Output: True\n"
   ]
  },
  {
   "cell_type": "code",
   "execution_count": null,
   "id": "16a8b11b-e5d5-42ef-a68e-6df684e1d124",
   "metadata": {},
   "outputs": [],
   "source": []
  }
 ],
 "metadata": {
  "kernelspec": {
   "display_name": "Python 3 (ipykernel)",
   "language": "python",
   "name": "python3"
  },
  "language_info": {
   "codemirror_mode": {
    "name": "ipython",
    "version": 3
   },
   "file_extension": ".py",
   "mimetype": "text/x-python",
   "name": "python",
   "nbconvert_exporter": "python",
   "pygments_lexer": "ipython3",
   "version": "3.12.7"
  }
 },
 "nbformat": 4,
 "nbformat_minor": 5
}
