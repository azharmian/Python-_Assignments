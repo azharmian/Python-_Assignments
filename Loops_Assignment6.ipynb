{
 "cells": [
  {
   "cell_type": "markdown",
   "id": "4b35d11c-378b-41de-8694-8db55b4d4d6c",
   "metadata": {},
   "source": [
    "1.\tWrite a Python program to print the numbers from 1 to 10 using a for loop."
   ]
  },
  {
   "cell_type": "code",
   "execution_count": 2,
   "id": "704d0f5c-400b-4458-83d3-370707dc49fa",
   "metadata": {},
   "outputs": [
    {
     "name": "stdout",
     "output_type": "stream",
     "text": [
      "1\n",
      "2\n",
      "3\n",
      "4\n",
      "5\n",
      "6\n",
      "7\n",
      "8\n",
      "9\n",
      "10\n"
     ]
    }
   ],
   "source": [
    "for i in range(1, 11):\n",
    "    print(i)\n"
   ]
  },
  {
   "cell_type": "markdown",
   "id": "4048b3a1-0b3f-4361-81ae-c478be131642",
   "metadata": {},
   "source": [
    "2.\tWrite a Python program to print the numbers from 20 to 1 using a while loop."
   ]
  },
  {
   "cell_type": "code",
   "execution_count": 5,
   "id": "863572ce-2751-4ab2-9bdf-9ff1ccd2b149",
   "metadata": {},
   "outputs": [
    {
     "name": "stdout",
     "output_type": "stream",
     "text": [
      "20\n",
      "19\n",
      "18\n",
      "17\n",
      "16\n",
      "15\n",
      "14\n",
      "13\n",
      "12\n",
      "11\n",
      "10\n",
      "9\n",
      "8\n",
      "7\n",
      "6\n",
      "5\n",
      "4\n",
      "3\n",
      "2\n",
      "1\n"
     ]
    }
   ],
   "source": [
    "num = 20\n",
    "while num >= 1:\n",
    "    print(num)\n",
    "    num -= 1\n"
   ]
  },
  {
   "cell_type": "markdown",
   "id": "2274fd73-71b3-422a-a939-b2228b33b2e0",
   "metadata": {},
   "source": [
    "3.\tWrite a program to print even numbers from 1 to 10."
   ]
  },
  {
   "cell_type": "code",
   "execution_count": 8,
   "id": "3549f8f1-ef8e-4a07-b902-40710a4da811",
   "metadata": {},
   "outputs": [
    {
     "name": "stdout",
     "output_type": "stream",
     "text": [
      "2\n",
      "4\n",
      "6\n",
      "8\n",
      "10\n"
     ]
    }
   ],
   "source": [
    "for i in range(1, 11):\n",
    "    if i % 2 == 0:\n",
    "        print(i)"
   ]
  },
  {
   "cell_type": "markdown",
   "id": "6f90c280-d948-4fdc-89a5-cda1d3c786cc",
   "metadata": {},
   "source": [
    "4.\tWrite a program that prompts the user to enter a number n and prints all the numbers from 1 to n.\n"
   ]
  },
  {
   "cell_type": "code",
   "execution_count": 11,
   "id": "294ceabb-599b-4853-9644-585cab1795c6",
   "metadata": {},
   "outputs": [
    {
     "name": "stdin",
     "output_type": "stream",
     "text": [
      "Enter a number:  3\n"
     ]
    },
    {
     "name": "stdout",
     "output_type": "stream",
     "text": [
      "1\n",
      "2\n",
      "3\n"
     ]
    }
   ],
   "source": [
    "n = int(input(\"Enter a number: \"))\n",
    "for i in range(1, n + 1):\n",
    "    print(i)\n"
   ]
  },
  {
   "cell_type": "markdown",
   "id": "30f06fa5-f173-4512-b5d8-314635741e5a",
   "metadata": {},
   "source": [
    "5.\tWrite a program that prompts the user to enter a number n, and then prints all the odd numbers between 1 and n."
   ]
  },
  {
   "cell_type": "code",
   "execution_count": 14,
   "id": "2416f31c-43e0-40e9-8efe-8a603ee4d8ab",
   "metadata": {},
   "outputs": [
    {
     "name": "stdin",
     "output_type": "stream",
     "text": [
      "Enter a number:  8\n"
     ]
    },
    {
     "name": "stdout",
     "output_type": "stream",
     "text": [
      "1\n",
      "3\n",
      "5\n",
      "7\n"
     ]
    }
   ],
   "source": [
    "n = int(input(\"Enter a number: \"))\n",
    "for i in range(1, n + 1):\n",
    "    if i % 2 != 0:\n",
    "        print(i)\n"
   ]
  },
  {
   "cell_type": "markdown",
   "id": "bdcc4569-ed79-469f-9536-83c085514a26",
   "metadata": {},
   "source": [
    "6.\tWrite a program that prints 'Happy Birthday!' five times on screen."
   ]
  },
  {
   "cell_type": "code",
   "execution_count": 17,
   "id": "787bce53-95b0-4358-81aa-2d9c365873d5",
   "metadata": {},
   "outputs": [
    {
     "name": "stdout",
     "output_type": "stream",
     "text": [
      "Happy Birthday!\n",
      "Happy Birthday!\n",
      "Happy Birthday!\n",
      "Happy Birthday!\n",
      "Happy Birthday!\n"
     ]
    }
   ],
   "source": [
    "for _ in range(5):\n",
    "    print(\"Happy Birthday!\")\n"
   ]
  },
  {
   "cell_type": "markdown",
   "id": "a65db9d6-3334-43cc-9200-0737cf8d1fd8",
   "metadata": {},
   "source": [
    "7.\tWrite a program that takes a number n as input from the user and generates the first n terms of the series formed by squaring the natural numbers.\n",
    "Sample output Enter a number: 6\n",
    "The first 6 terms of the series are:\n",
    "1 4 9 16 25 36\n"
   ]
  },
  {
   "cell_type": "code",
   "execution_count": 20,
   "id": "e511f40a-3cf3-41d2-a251-e2b39c83b5f5",
   "metadata": {},
   "outputs": [
    {
     "name": "stdin",
     "output_type": "stream",
     "text": [
      "Enter a number:  6\n"
     ]
    },
    {
     "name": "stdout",
     "output_type": "stream",
     "text": [
      "The first 6 terms of the series are:\n",
      "1 4 9 16 25 36 "
     ]
    }
   ],
   "source": [
    "n = int(input(\"Enter a number: \"))\n",
    "print(\"The first\", n, \"terms of the series are:\")\n",
    "for i in range(1, n + 1):\n",
    "    print(i ** 2, end=\" \")\n"
   ]
  },
  {
   "cell_type": "markdown",
   "id": "c5360db8-3b2c-4fc1-bf27-e44687e2b84b",
   "metadata": {},
   "source": [
    "8.\tWrite a program that prompts the user to input a number and prints its multiplication table."
   ]
  },
  {
   "cell_type": "code",
   "execution_count": 23,
   "id": "24e89522-b83f-4526-8457-f89179b014d5",
   "metadata": {},
   "outputs": [
    {
     "name": "stdin",
     "output_type": "stream",
     "text": [
      "Enter a number:  8\n"
     ]
    },
    {
     "name": "stdout",
     "output_type": "stream",
     "text": [
      "8 x 1 = 8\n",
      "8 x 2 = 16\n",
      "8 x 3 = 24\n",
      "8 x 4 = 32\n",
      "8 x 5 = 40\n",
      "8 x 6 = 48\n",
      "8 x 7 = 56\n",
      "8 x 8 = 64\n",
      "8 x 9 = 72\n",
      "8 x 10 = 80\n"
     ]
    }
   ],
   "source": [
    "n = int(input(\"Enter a number: \"))\n",
    "for i in range(1, 11):\n",
    "    print(f\"{n} x {i} = {n * i}\")\n"
   ]
  },
  {
   "cell_type": "markdown",
   "id": "84850649-8644-4f09-9582-46369b1e39d6",
   "metadata": {},
   "source": [
    "9.\tWrite a Python program to print the first 8 terms of an arithmetic progression starting with 3 and having a common difference of 4.\n",
    "The program should output the following sequence:\n",
    "3 7 11 15 19 23 27 31\n"
   ]
  },
  {
   "cell_type": "code",
   "execution_count": 26,
   "id": "f50b8fb7-2434-437a-9fb9-010fac43d7a4",
   "metadata": {},
   "outputs": [
    {
     "name": "stdout",
     "output_type": "stream",
     "text": [
      "3 7 11 15 19 23 27 31 "
     ]
    }
   ],
   "source": [
    "start = 3\n",
    "diff = 4\n",
    "terms = 8\n",
    "for i in range(terms):\n",
    "    print(start + i * diff, end=\" \")\n"
   ]
  },
  {
   "cell_type": "markdown",
   "id": "af29638a-d30a-4f0e-a4a8-5b40129c4450",
   "metadata": {},
   "source": [
    "10.\tWrite a Python program to print the first 6 terms of a geometric sequence starting with 2 and having a common ratio of 3.\n",
    "The program should output the following sequence:\n",
    "2 6 18 54 162 486\n"
   ]
  },
  {
   "cell_type": "code",
   "execution_count": 29,
   "id": "083ab5b9-ff93-470d-876b-540ab7cd1ca6",
   "metadata": {},
   "outputs": [
    {
     "name": "stdout",
     "output_type": "stream",
     "text": [
      "2 6 18 54 162 486 "
     ]
    }
   ],
   "source": [
    "start = 2\n",
    "ratio = 3\n",
    "terms = 6\n",
    "for i in range(terms):\n",
    "    print(start * (ratio ** i), end=\" \")\n"
   ]
  },
  {
   "cell_type": "markdown",
   "id": "45750ca7-df93-4041-acef-a69e189ec859",
   "metadata": {},
   "source": [
    "11.\tWrite a program that asks the user for a positive integer value. The program should calculate the sum of all the integers from 1 up to the number entered. For example, if the user enters 20, the loop will find the sum of 1, 2, 3, 4, ... 20."
   ]
  },
  {
   "cell_type": "code",
   "execution_count": 32,
   "id": "3f2142ff-0721-4e15-ac73-a4eed49f32ed",
   "metadata": {},
   "outputs": [
    {
     "name": "stdin",
     "output_type": "stream",
     "text": [
      "Enter a positive integer:  8\n"
     ]
    },
    {
     "name": "stdout",
     "output_type": "stream",
     "text": [
      "The sum is: 36\n"
     ]
    }
   ],
   "source": [
    "n = int(input(\"Enter a positive integer: \"))\n",
    "if n > 0:\n",
    "    total = sum(range(1, n + 1))\n",
    "    print(\"The sum is:\", total)\n",
    "else:\n",
    "    print(\"Please enter a positive integer.\")\n"
   ]
  },
  {
   "cell_type": "markdown",
   "id": "14b5a6d6-f082-40ec-abe6-f07aa7f921cd",
   "metadata": {},
   "source": [
    "12.\twrite a program that takes a positive integer N as input and calculates the sum of the reciprocals of all numbers from 1 up to N. The program should display the final sum.\n",
    " \n",
    "Output of the program should be like:\n",
    "Enter a positive integer: 5\n",
    "The sum of reciprocals from 1 to 5 is: 2.28\n",
    "\n"
   ]
  },
  {
   "cell_type": "code",
   "execution_count": 35,
   "id": "088bee60-b166-4878-ae04-e6cdf3090e53",
   "metadata": {},
   "outputs": [
    {
     "name": "stdin",
     "output_type": "stream",
     "text": [
      "Enter a positive integer:  8\n"
     ]
    },
    {
     "name": "stdout",
     "output_type": "stream",
     "text": [
      "The sum of reciprocals from 1 to 8 is: 2.72\n"
     ]
    }
   ],
   "source": [
    "n = int(input(\"Enter a positive integer: \"))\n",
    "if n > 0:\n",
    "    total = sum(1 / i for i in range(1, n + 1))\n",
    "    print(f\"The sum of reciprocals from 1 to {n} is: {total:.2f}\")\n",
    "else:\n",
    "    print(\"Please enter a positive integer.\")\n"
   ]
  },
  {
   "cell_type": "markdown",
   "id": "ee669f29-8ec3-4a80-bfe2-41140701d36b",
   "metadata": {},
   "source": [
    "13.\tWrite a program that prompts the user to enter a number and repeats this process 5 times. The program should accumulate the numbers entered and then display the final running total.\n",
    "Sample Output:\n",
    "Enter a number: 10 Enter a number: 15 Enter a number: 35 Enter a number: 40 Enter a number: 50\n",
    "The final running total is: 150\n"
   ]
  },
  {
   "cell_type": "code",
   "execution_count": 38,
   "id": "25e162fc-00ef-4f36-8bea-60393dfcf63f",
   "metadata": {},
   "outputs": [
    {
     "name": "stdin",
     "output_type": "stream",
     "text": [
      "Enter a number:  6\n",
      "Enter a number:  4\n",
      "Enter a number:  3\n",
      "Enter a number:  2\n",
      "Enter a number:  1\n"
     ]
    },
    {
     "name": "stdout",
     "output_type": "stream",
     "text": [
      "The final running total is: 16\n"
     ]
    }
   ],
   "source": [
    "total = 0\n",
    "for _ in range(5):\n",
    "    num = int(input(\"Enter a number: \"))\n",
    "    total += num\n",
    "print(\"The final running total is:\", total)\n"
   ]
  },
  {
   "cell_type": "markdown",
   "id": "bbc99d4b-f3d4-4550-9f63-79df61c5bd39",
   "metadata": {},
   "source": [
    "14.\tWrite a program that prompts the user to enter a positive integer and calculates its factorial. The factorial of a positive integer 'n' is denoted as 'n!' and is calculated by multiplying all the integers from 1 to 'n' together. For example, the factorial of 5 (denoted as 5!) is calculated as 1 x 2 x 3 x 4 x 5.\n",
    "The program should display the factorial value if the input is a positive number, or display a message stating that the factorial does not exist for negative numbers.\n",
    "Additionally, for an input of zero, the program should output that the factorial of 0 is 1.\n"
   ]
  },
  {
   "cell_type": "code",
   "execution_count": 41,
   "id": "bb7bf906-03e4-448b-a74b-10b3d684ba9b",
   "metadata": {},
   "outputs": [
    {
     "name": "stdin",
     "output_type": "stream",
     "text": [
      "Enter a positive integer:  4\n"
     ]
    },
    {
     "name": "stdout",
     "output_type": "stream",
     "text": [
      "The factorial of 4 is 24.\n"
     ]
    }
   ],
   "source": [
    "n = int(input(\"Enter a positive integer: \"))\n",
    "if n < 0:\n",
    "    print(\"Factorial does not exist for negative numbers.\")\n",
    "elif n == 0:\n",
    "    print(\"The factorial of 0 is 1.\")\n",
    "else:\n",
    "    factorial = 1\n",
    "    for i in range(1, n + 1):\n",
    "        factorial *= i\n",
    "    print(f\"The factorial of {n} is {factorial}.\")\n"
   ]
  },
  {
   "cell_type": "markdown",
   "id": "5d856549-28ea-4400-adee-5e6ff2bb4cef",
   "metadata": {},
   "source": [
    "15.\tWrite a Python program that prompts the user to enter a base number and an exponent, and then calculates the power of the base to the exponent. The program should not use the exponentiation operator (**) or the math.pow() function. The program should handle both positive and negative exponents."
   ]
  },
  {
   "cell_type": "code",
   "execution_count": 44,
   "id": "d70642c6-2850-499a-a884-8c770e51aa2d",
   "metadata": {},
   "outputs": [
    {
     "name": "stdin",
     "output_type": "stream",
     "text": [
      "Enter the base:  9\n",
      "Enter the exponent:  7\n"
     ]
    },
    {
     "name": "stdout",
     "output_type": "stream",
     "text": [
      "9.0 raised to the power of 7 is 4782969.0.\n"
     ]
    }
   ],
   "source": [
    "base = float(input(\"Enter the base: \"))\n",
    "exponent = int(input(\"Enter the exponent: \"))\n",
    "result = 1\n",
    "if exponent > 0:\n",
    "    for _ in range(exponent):\n",
    "        result *= base\n",
    "elif exponent < 0:\n",
    "    for _ in range(-exponent):\n",
    "        result /= base\n",
    "print(f\"{base} raised to the power of {exponent} is {result}.\")\n"
   ]
  },
  {
   "cell_type": "code",
   "execution_count": null,
   "id": "657aa1ff-0600-4cb5-abdb-60cf2895bba7",
   "metadata": {},
   "outputs": [],
   "source": []
  }
 ],
 "metadata": {
  "kernelspec": {
   "display_name": "Python 3 (ipykernel)",
   "language": "python",
   "name": "python3"
  },
  "language_info": {
   "codemirror_mode": {
    "name": "ipython",
    "version": 3
   },
   "file_extension": ".py",
   "mimetype": "text/x-python",
   "name": "python",
   "nbconvert_exporter": "python",
   "pygments_lexer": "ipython3",
   "version": "3.12.7"
  }
 },
 "nbformat": 4,
 "nbformat_minor": 5
}
